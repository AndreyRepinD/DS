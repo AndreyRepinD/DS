{
 "cells": [
  {
   "cell_type": "markdown",
   "metadata": {},
   "source": []
  },
  {
   "cell_type": "markdown",
   "metadata": {},
   "source": [
    "Из «Бета-Банка» стали уходить клиенты. Каждый месяц. Немного, но заметно. Банковские маркетологи посчитали: сохранять текущих клиентов дешевле, чем привлекать новых.\n",
    "\n",
    "Нужно спрогнозировать, уйдёт клиент из банка в ближайшее время или нет. Вам предоставлены исторические данные о поведении клиентов и расторжении договоров с банком. \n",
    "\n",
    "Постройте модель с предельно большим значением *F1*-меры. Чтобы сдать проект успешно, нужно довести метрику до 0.59. Проверьте *F1*-меру на тестовой выборке самостоятельно.\n",
    "\n",
    "Дополнительно измеряйте *AUC-ROC*, сравнивайте её значение с *F1*-мерой.\n",
    "\n",
    "Источник данных: [https://www.kaggle.com/barelydedicated/bank-customer-churn-modeling](https://www.kaggle.com/barelydedicated/bank-customer-churn-modeling)"
   ]
  },
  {
   "cell_type": "markdown",
   "metadata": {},
   "source": [
    "Из \"Бета-Банка\" понемногу каждый месяц уходят клиенты. Так как сохранить текузих клиентов дешевле, чем привлекать новых, то нужно спрогнозировать уйдет ли клиент из банка или нет.\n",
    "**Цель исследования** — построить модель, которая спрогнозирует уход клиента.\n",
    "\n",
    "**Ход исследования**\n",
    "Исследование пройдёт в пять этапов:\n",
    "1. Подготовка данных.\n",
    "2. Исследовать качество разных моделей, меняя гиперпараметры.\n",
    "3. Борба с дисбалансом\n",
    "3. Проверить качество модели на тестовой выборке.\n",
    "5. Проверить модели на вменяемость. \n",
    "**Описание данных**\n",
    "Данные находятся в файле /datasets/Churn.csv (англ. «отток клиентов»).\n",
    "Признаки\n",
    "1. `RowNumber` — индекс строки в данных\n",
    "2. `CustomerId` — уникальный идентификатор клиента\n",
    "3. `Surname` — фамилия\n",
    "4. `CreditScore` — кредитный рейтинг\n",
    "5. `Geography` — страна проживания\n",
    "6. `Gender` — пол\n",
    "7. `Age` — возраст\n",
    "8. `Tenure` — сколько лет человек является клиентом банка\n",
    "9. `Balance` — баланс на счёте\n",
    "10. `NumOfProducts` — количество продуктов банка, используемых клиентом\n",
    "11. `HasCrCard` — наличие кредитной карты\n",
    "12. `IsActiveMember` — активность клиента\n",
    "13. `EstimatedSalary` — предполагаемая зарплата\n",
    "Целевой признак:\n",
    "1. `Exited` — факт ухода клиента"
   ]
  },
  {
   "cell_type": "markdown",
   "metadata": {},
   "source": [
    "## Подготовка данных"
   ]
  },
  {
   "cell_type": "code",
   "execution_count": 1,
   "metadata": {},
   "outputs": [
    {
     "name": "stdout",
     "output_type": "stream",
     "text": [
      "Requirement already satisfied: imblearn in c:\\users\\andrey.repin.corp\\anaconda3\\lib\\site-packages (0.0)\n",
      "Requirement already satisfied: imbalanced-learn in c:\\users\\andrey.repin.corp\\anaconda3\\lib\\site-packages (from imblearn) (0.10.1)\n",
      "Requirement already satisfied: scipy>=1.3.2 in c:\\users\\andrey.repin.corp\\anaconda3\\lib\\site-packages (from imbalanced-learn->imblearn) (1.7.3)\n",
      "Requirement already satisfied: threadpoolctl>=2.0.0 in c:\\users\\andrey.repin.corp\\anaconda3\\lib\\site-packages (from imbalanced-learn->imblearn) (2.2.0)Note: you may need to restart the kernel to use updated packages.\n",
      "\n",
      "Requirement already satisfied: joblib>=1.1.1 in c:\\users\\andrey.repin.corp\\anaconda3\\lib\\site-packages (from imbalanced-learn->imblearn) (1.2.0)\n",
      "Requirement already satisfied: scikit-learn>=1.0.2 in c:\\users\\andrey.repin.corp\\anaconda3\\lib\\site-packages (from imbalanced-learn->imblearn) (1.0.2)\n",
      "Requirement already satisfied: numpy>=1.17.3 in c:\\users\\andrey.repin.corp\\anaconda3\\lib\\site-packages (from imbalanced-learn->imblearn) (1.21.5)\n"
     ]
    }
   ],
   "source": [
    "#pip install imblearn"
   ]
  },
  {
   "cell_type": "code",
   "execution_count": 2,
   "metadata": {},
   "outputs": [],
   "source": [
    "import pandas as pd\n",
    "\n",
    "import matplotlib.pyplot as plt\n",
    "import seaborn as sns\n",
    "import numpy as np\n",
    "\n",
    "from sklearn.tree import DecisionTreeClassifier\n",
    "from sklearn.ensemble import RandomForestClassifier\n",
    "\n",
    "from imblearn.under_sampling import RandomUnderSampler\n",
    "from imblearn.over_sampling import SMOTE\n",
    "\n",
    "from sklearn.dummy import DummyClassifier\n",
    "from sklearn.preprocessing import StandardScaler, OneHotEncoder\n",
    "from sklearn.model_selection import GridSearchCV, train_test_split\n",
    "from sklearn.utils import shuffle\n",
    "\n",
    "from sklearn.metrics import f1_score, accuracy_score, roc_auc_score, roc_curve "
   ]
  },
  {
   "cell_type": "code",
   "execution_count": 5,
   "metadata": {},
   "outputs": [],
   "source": [
    "try:\n",
    "    data = pd.read_csv('Churn.csv')\n",
    "except:\n",
    "    data = pd.read_csv('https://code.s3.yandex.net/datasets/Churn.csv')"
   ]
  },
  {
   "cell_type": "code",
   "execution_count": 6,
   "metadata": {},
   "outputs": [
    {
     "data": {
      "text/html": [
       "<div>\n",
       "<style scoped>\n",
       "    .dataframe tbody tr th:only-of-type {\n",
       "        vertical-align: middle;\n",
       "    }\n",
       "\n",
       "    .dataframe tbody tr th {\n",
       "        vertical-align: top;\n",
       "    }\n",
       "\n",
       "    .dataframe thead th {\n",
       "        text-align: right;\n",
       "    }\n",
       "</style>\n",
       "<table border=\"1\" class=\"dataframe\">\n",
       "  <thead>\n",
       "    <tr style=\"text-align: right;\">\n",
       "      <th></th>\n",
       "      <th>RowNumber</th>\n",
       "      <th>CustomerId</th>\n",
       "      <th>Surname</th>\n",
       "      <th>CreditScore</th>\n",
       "      <th>Geography</th>\n",
       "      <th>Gender</th>\n",
       "      <th>Age</th>\n",
       "      <th>Tenure</th>\n",
       "      <th>Balance</th>\n",
       "      <th>NumOfProducts</th>\n",
       "      <th>HasCrCard</th>\n",
       "      <th>IsActiveMember</th>\n",
       "      <th>EstimatedSalary</th>\n",
       "      <th>Exited</th>\n",
       "    </tr>\n",
       "  </thead>\n",
       "  <tbody>\n",
       "    <tr>\n",
       "      <th>0</th>\n",
       "      <td>1</td>\n",
       "      <td>15634602</td>\n",
       "      <td>Hargrave</td>\n",
       "      <td>619</td>\n",
       "      <td>France</td>\n",
       "      <td>Female</td>\n",
       "      <td>42</td>\n",
       "      <td>2.0</td>\n",
       "      <td>0.00</td>\n",
       "      <td>1</td>\n",
       "      <td>1</td>\n",
       "      <td>1</td>\n",
       "      <td>101348.88</td>\n",
       "      <td>1</td>\n",
       "    </tr>\n",
       "    <tr>\n",
       "      <th>1</th>\n",
       "      <td>2</td>\n",
       "      <td>15647311</td>\n",
       "      <td>Hill</td>\n",
       "      <td>608</td>\n",
       "      <td>Spain</td>\n",
       "      <td>Female</td>\n",
       "      <td>41</td>\n",
       "      <td>1.0</td>\n",
       "      <td>83807.86</td>\n",
       "      <td>1</td>\n",
       "      <td>0</td>\n",
       "      <td>1</td>\n",
       "      <td>112542.58</td>\n",
       "      <td>0</td>\n",
       "    </tr>\n",
       "    <tr>\n",
       "      <th>2</th>\n",
       "      <td>3</td>\n",
       "      <td>15619304</td>\n",
       "      <td>Onio</td>\n",
       "      <td>502</td>\n",
       "      <td>France</td>\n",
       "      <td>Female</td>\n",
       "      <td>42</td>\n",
       "      <td>8.0</td>\n",
       "      <td>159660.80</td>\n",
       "      <td>3</td>\n",
       "      <td>1</td>\n",
       "      <td>0</td>\n",
       "      <td>113931.57</td>\n",
       "      <td>1</td>\n",
       "    </tr>\n",
       "    <tr>\n",
       "      <th>3</th>\n",
       "      <td>4</td>\n",
       "      <td>15701354</td>\n",
       "      <td>Boni</td>\n",
       "      <td>699</td>\n",
       "      <td>France</td>\n",
       "      <td>Female</td>\n",
       "      <td>39</td>\n",
       "      <td>1.0</td>\n",
       "      <td>0.00</td>\n",
       "      <td>2</td>\n",
       "      <td>0</td>\n",
       "      <td>0</td>\n",
       "      <td>93826.63</td>\n",
       "      <td>0</td>\n",
       "    </tr>\n",
       "    <tr>\n",
       "      <th>4</th>\n",
       "      <td>5</td>\n",
       "      <td>15737888</td>\n",
       "      <td>Mitchell</td>\n",
       "      <td>850</td>\n",
       "      <td>Spain</td>\n",
       "      <td>Female</td>\n",
       "      <td>43</td>\n",
       "      <td>2.0</td>\n",
       "      <td>125510.82</td>\n",
       "      <td>1</td>\n",
       "      <td>1</td>\n",
       "      <td>1</td>\n",
       "      <td>79084.10</td>\n",
       "      <td>0</td>\n",
       "    </tr>\n",
       "    <tr>\n",
       "      <th>5</th>\n",
       "      <td>6</td>\n",
       "      <td>15574012</td>\n",
       "      <td>Chu</td>\n",
       "      <td>645</td>\n",
       "      <td>Spain</td>\n",
       "      <td>Male</td>\n",
       "      <td>44</td>\n",
       "      <td>8.0</td>\n",
       "      <td>113755.78</td>\n",
       "      <td>2</td>\n",
       "      <td>1</td>\n",
       "      <td>0</td>\n",
       "      <td>149756.71</td>\n",
       "      <td>1</td>\n",
       "    </tr>\n",
       "    <tr>\n",
       "      <th>6</th>\n",
       "      <td>7</td>\n",
       "      <td>15592531</td>\n",
       "      <td>Bartlett</td>\n",
       "      <td>822</td>\n",
       "      <td>France</td>\n",
       "      <td>Male</td>\n",
       "      <td>50</td>\n",
       "      <td>7.0</td>\n",
       "      <td>0.00</td>\n",
       "      <td>2</td>\n",
       "      <td>1</td>\n",
       "      <td>1</td>\n",
       "      <td>10062.80</td>\n",
       "      <td>0</td>\n",
       "    </tr>\n",
       "    <tr>\n",
       "      <th>7</th>\n",
       "      <td>8</td>\n",
       "      <td>15656148</td>\n",
       "      <td>Obinna</td>\n",
       "      <td>376</td>\n",
       "      <td>Germany</td>\n",
       "      <td>Female</td>\n",
       "      <td>29</td>\n",
       "      <td>4.0</td>\n",
       "      <td>115046.74</td>\n",
       "      <td>4</td>\n",
       "      <td>1</td>\n",
       "      <td>0</td>\n",
       "      <td>119346.88</td>\n",
       "      <td>1</td>\n",
       "    </tr>\n",
       "    <tr>\n",
       "      <th>8</th>\n",
       "      <td>9</td>\n",
       "      <td>15792365</td>\n",
       "      <td>He</td>\n",
       "      <td>501</td>\n",
       "      <td>France</td>\n",
       "      <td>Male</td>\n",
       "      <td>44</td>\n",
       "      <td>4.0</td>\n",
       "      <td>142051.07</td>\n",
       "      <td>2</td>\n",
       "      <td>0</td>\n",
       "      <td>1</td>\n",
       "      <td>74940.50</td>\n",
       "      <td>0</td>\n",
       "    </tr>\n",
       "    <tr>\n",
       "      <th>9</th>\n",
       "      <td>10</td>\n",
       "      <td>15592389</td>\n",
       "      <td>H?</td>\n",
       "      <td>684</td>\n",
       "      <td>France</td>\n",
       "      <td>Male</td>\n",
       "      <td>27</td>\n",
       "      <td>2.0</td>\n",
       "      <td>134603.88</td>\n",
       "      <td>1</td>\n",
       "      <td>1</td>\n",
       "      <td>1</td>\n",
       "      <td>71725.73</td>\n",
       "      <td>0</td>\n",
       "    </tr>\n",
       "  </tbody>\n",
       "</table>\n",
       "</div>"
      ],
      "text/plain": [
       "   RowNumber  CustomerId   Surname  CreditScore Geography  Gender  Age  \\\n",
       "0          1    15634602  Hargrave          619    France  Female   42   \n",
       "1          2    15647311      Hill          608     Spain  Female   41   \n",
       "2          3    15619304      Onio          502    France  Female   42   \n",
       "3          4    15701354      Boni          699    France  Female   39   \n",
       "4          5    15737888  Mitchell          850     Spain  Female   43   \n",
       "5          6    15574012       Chu          645     Spain    Male   44   \n",
       "6          7    15592531  Bartlett          822    France    Male   50   \n",
       "7          8    15656148    Obinna          376   Germany  Female   29   \n",
       "8          9    15792365        He          501    France    Male   44   \n",
       "9         10    15592389        H?          684    France    Male   27   \n",
       "\n",
       "   Tenure    Balance  NumOfProducts  HasCrCard  IsActiveMember  \\\n",
       "0     2.0       0.00              1          1               1   \n",
       "1     1.0   83807.86              1          0               1   \n",
       "2     8.0  159660.80              3          1               0   \n",
       "3     1.0       0.00              2          0               0   \n",
       "4     2.0  125510.82              1          1               1   \n",
       "5     8.0  113755.78              2          1               0   \n",
       "6     7.0       0.00              2          1               1   \n",
       "7     4.0  115046.74              4          1               0   \n",
       "8     4.0  142051.07              2          0               1   \n",
       "9     2.0  134603.88              1          1               1   \n",
       "\n",
       "   EstimatedSalary  Exited  \n",
       "0        101348.88       1  \n",
       "1        112542.58       0  \n",
       "2        113931.57       1  \n",
       "3         93826.63       0  \n",
       "4         79084.10       0  \n",
       "5        149756.71       1  \n",
       "6         10062.80       0  \n",
       "7        119346.88       1  \n",
       "8         74940.50       0  \n",
       "9         71725.73       0  "
      ]
     },
     "execution_count": 6,
     "metadata": {},
     "output_type": "execute_result"
    }
   ],
   "source": [
    "data.head(10) # выводим первые 10 строчек датафрейма data на экран."
   ]
  },
  {
   "cell_type": "code",
   "execution_count": 7,
   "metadata": {},
   "outputs": [
    {
     "name": "stdout",
     "output_type": "stream",
     "text": [
      "<class 'pandas.core.frame.DataFrame'>\n",
      "RangeIndex: 10000 entries, 0 to 9999\n",
      "Data columns (total 14 columns):\n",
      " #   Column           Non-Null Count  Dtype  \n",
      "---  ------           --------------  -----  \n",
      " 0   RowNumber        10000 non-null  int64  \n",
      " 1   CustomerId       10000 non-null  int64  \n",
      " 2   Surname          10000 non-null  object \n",
      " 3   CreditScore      10000 non-null  int64  \n",
      " 4   Geography        10000 non-null  object \n",
      " 5   Gender           10000 non-null  object \n",
      " 6   Age              10000 non-null  int64  \n",
      " 7   Tenure           9091 non-null   float64\n",
      " 8   Balance          10000 non-null  float64\n",
      " 9   NumOfProducts    10000 non-null  int64  \n",
      " 10  HasCrCard        10000 non-null  int64  \n",
      " 11  IsActiveMember   10000 non-null  int64  \n",
      " 12  EstimatedSalary  10000 non-null  float64\n",
      " 13  Exited           10000 non-null  int64  \n",
      "dtypes: float64(3), int64(8), object(3)\n",
      "memory usage: 1.1+ MB\n"
     ]
    }
   ],
   "source": [
    "data.info()# выводим данные о датафрейме дата на экран\n",
    "# В датафрейме 10000 строк\n",
    "# Пропущенные данные есть в столбце Tenure\n",
    "# Данный столбец показывает, сколько лет человек является клиентом банка.Рассмотрим данный столбец с следующем пункте"
   ]
  },
  {
   "cell_type": "code",
   "execution_count": 8,
   "metadata": {},
   "outputs": [
    {
     "data": {
      "text/html": [
       "<div>\n",
       "<style scoped>\n",
       "    .dataframe tbody tr th:only-of-type {\n",
       "        vertical-align: middle;\n",
       "    }\n",
       "\n",
       "    .dataframe tbody tr th {\n",
       "        vertical-align: top;\n",
       "    }\n",
       "\n",
       "    .dataframe thead th {\n",
       "        text-align: right;\n",
       "    }\n",
       "</style>\n",
       "<table border=\"1\" class=\"dataframe\">\n",
       "  <thead>\n",
       "    <tr style=\"text-align: right;\">\n",
       "      <th></th>\n",
       "      <th>RowNumber</th>\n",
       "      <th>CustomerId</th>\n",
       "      <th>Surname</th>\n",
       "      <th>CreditScore</th>\n",
       "      <th>Geography</th>\n",
       "      <th>Gender</th>\n",
       "      <th>Age</th>\n",
       "      <th>Tenure</th>\n",
       "      <th>Balance</th>\n",
       "      <th>NumOfProducts</th>\n",
       "      <th>HasCrCard</th>\n",
       "      <th>IsActiveMember</th>\n",
       "      <th>EstimatedSalary</th>\n",
       "      <th>Exited</th>\n",
       "    </tr>\n",
       "  </thead>\n",
       "  <tbody>\n",
       "    <tr>\n",
       "      <th>30</th>\n",
       "      <td>31</td>\n",
       "      <td>15589475</td>\n",
       "      <td>Azikiwe</td>\n",
       "      <td>591</td>\n",
       "      <td>Spain</td>\n",
       "      <td>Female</td>\n",
       "      <td>39</td>\n",
       "      <td>NaN</td>\n",
       "      <td>0.00</td>\n",
       "      <td>3</td>\n",
       "      <td>1</td>\n",
       "      <td>0</td>\n",
       "      <td>140469.38</td>\n",
       "      <td>1</td>\n",
       "    </tr>\n",
       "    <tr>\n",
       "      <th>48</th>\n",
       "      <td>49</td>\n",
       "      <td>15766205</td>\n",
       "      <td>Yin</td>\n",
       "      <td>550</td>\n",
       "      <td>Germany</td>\n",
       "      <td>Male</td>\n",
       "      <td>38</td>\n",
       "      <td>NaN</td>\n",
       "      <td>103391.38</td>\n",
       "      <td>1</td>\n",
       "      <td>0</td>\n",
       "      <td>1</td>\n",
       "      <td>90878.13</td>\n",
       "      <td>0</td>\n",
       "    </tr>\n",
       "    <tr>\n",
       "      <th>51</th>\n",
       "      <td>52</td>\n",
       "      <td>15768193</td>\n",
       "      <td>Trevisani</td>\n",
       "      <td>585</td>\n",
       "      <td>Germany</td>\n",
       "      <td>Male</td>\n",
       "      <td>36</td>\n",
       "      <td>NaN</td>\n",
       "      <td>146050.97</td>\n",
       "      <td>2</td>\n",
       "      <td>0</td>\n",
       "      <td>0</td>\n",
       "      <td>86424.57</td>\n",
       "      <td>0</td>\n",
       "    </tr>\n",
       "    <tr>\n",
       "      <th>53</th>\n",
       "      <td>54</td>\n",
       "      <td>15702298</td>\n",
       "      <td>Parkhill</td>\n",
       "      <td>655</td>\n",
       "      <td>Germany</td>\n",
       "      <td>Male</td>\n",
       "      <td>41</td>\n",
       "      <td>NaN</td>\n",
       "      <td>125561.97</td>\n",
       "      <td>1</td>\n",
       "      <td>0</td>\n",
       "      <td>0</td>\n",
       "      <td>164040.94</td>\n",
       "      <td>1</td>\n",
       "    </tr>\n",
       "    <tr>\n",
       "      <th>60</th>\n",
       "      <td>61</td>\n",
       "      <td>15651280</td>\n",
       "      <td>Hunter</td>\n",
       "      <td>742</td>\n",
       "      <td>Germany</td>\n",
       "      <td>Male</td>\n",
       "      <td>35</td>\n",
       "      <td>NaN</td>\n",
       "      <td>136857.00</td>\n",
       "      <td>1</td>\n",
       "      <td>0</td>\n",
       "      <td>0</td>\n",
       "      <td>84509.57</td>\n",
       "      <td>0</td>\n",
       "    </tr>\n",
       "    <tr>\n",
       "      <th>82</th>\n",
       "      <td>83</td>\n",
       "      <td>15641732</td>\n",
       "      <td>Mills</td>\n",
       "      <td>543</td>\n",
       "      <td>France</td>\n",
       "      <td>Female</td>\n",
       "      <td>36</td>\n",
       "      <td>NaN</td>\n",
       "      <td>0.00</td>\n",
       "      <td>2</td>\n",
       "      <td>0</td>\n",
       "      <td>0</td>\n",
       "      <td>26019.59</td>\n",
       "      <td>0</td>\n",
       "    </tr>\n",
       "    <tr>\n",
       "      <th>85</th>\n",
       "      <td>86</td>\n",
       "      <td>15805254</td>\n",
       "      <td>Ndukaku</td>\n",
       "      <td>652</td>\n",
       "      <td>Spain</td>\n",
       "      <td>Female</td>\n",
       "      <td>75</td>\n",
       "      <td>NaN</td>\n",
       "      <td>0.00</td>\n",
       "      <td>2</td>\n",
       "      <td>1</td>\n",
       "      <td>1</td>\n",
       "      <td>114675.75</td>\n",
       "      <td>0</td>\n",
       "    </tr>\n",
       "    <tr>\n",
       "      <th>94</th>\n",
       "      <td>95</td>\n",
       "      <td>15676966</td>\n",
       "      <td>Capon</td>\n",
       "      <td>730</td>\n",
       "      <td>Spain</td>\n",
       "      <td>Male</td>\n",
       "      <td>42</td>\n",
       "      <td>NaN</td>\n",
       "      <td>0.00</td>\n",
       "      <td>2</td>\n",
       "      <td>0</td>\n",
       "      <td>1</td>\n",
       "      <td>85982.47</td>\n",
       "      <td>0</td>\n",
       "    </tr>\n",
       "    <tr>\n",
       "      <th>99</th>\n",
       "      <td>100</td>\n",
       "      <td>15633059</td>\n",
       "      <td>Fanucci</td>\n",
       "      <td>413</td>\n",
       "      <td>France</td>\n",
       "      <td>Male</td>\n",
       "      <td>34</td>\n",
       "      <td>NaN</td>\n",
       "      <td>0.00</td>\n",
       "      <td>2</td>\n",
       "      <td>0</td>\n",
       "      <td>0</td>\n",
       "      <td>6534.18</td>\n",
       "      <td>0</td>\n",
       "    </tr>\n",
       "    <tr>\n",
       "      <th>111</th>\n",
       "      <td>112</td>\n",
       "      <td>15665790</td>\n",
       "      <td>Rowntree</td>\n",
       "      <td>538</td>\n",
       "      <td>Germany</td>\n",
       "      <td>Male</td>\n",
       "      <td>39</td>\n",
       "      <td>NaN</td>\n",
       "      <td>108055.10</td>\n",
       "      <td>2</td>\n",
       "      <td>1</td>\n",
       "      <td>0</td>\n",
       "      <td>27231.26</td>\n",
       "      <td>0</td>\n",
       "    </tr>\n",
       "  </tbody>\n",
       "</table>\n",
       "</div>"
      ],
      "text/plain": [
       "     RowNumber  CustomerId    Surname  CreditScore Geography  Gender  Age  \\\n",
       "30          31    15589475    Azikiwe          591     Spain  Female   39   \n",
       "48          49    15766205        Yin          550   Germany    Male   38   \n",
       "51          52    15768193  Trevisani          585   Germany    Male   36   \n",
       "53          54    15702298   Parkhill          655   Germany    Male   41   \n",
       "60          61    15651280     Hunter          742   Germany    Male   35   \n",
       "82          83    15641732      Mills          543    France  Female   36   \n",
       "85          86    15805254    Ndukaku          652     Spain  Female   75   \n",
       "94          95    15676966      Capon          730     Spain    Male   42   \n",
       "99         100    15633059    Fanucci          413    France    Male   34   \n",
       "111        112    15665790   Rowntree          538   Germany    Male   39   \n",
       "\n",
       "     Tenure    Balance  NumOfProducts  HasCrCard  IsActiveMember  \\\n",
       "30      NaN       0.00              3          1               0   \n",
       "48      NaN  103391.38              1          0               1   \n",
       "51      NaN  146050.97              2          0               0   \n",
       "53      NaN  125561.97              1          0               0   \n",
       "60      NaN  136857.00              1          0               0   \n",
       "82      NaN       0.00              2          0               0   \n",
       "85      NaN       0.00              2          1               1   \n",
       "94      NaN       0.00              2          0               1   \n",
       "99      NaN       0.00              2          0               0   \n",
       "111     NaN  108055.10              2          1               0   \n",
       "\n",
       "     EstimatedSalary  Exited  \n",
       "30         140469.38       1  \n",
       "48          90878.13       0  \n",
       "51          86424.57       0  \n",
       "53         164040.94       1  \n",
       "60          84509.57       0  \n",
       "82          26019.59       0  \n",
       "85         114675.75       0  \n",
       "94          85982.47       0  \n",
       "99           6534.18       0  \n",
       "111         27231.26       0  "
      ]
     },
     "execution_count": 8,
     "metadata": {},
     "output_type": "execute_result"
    }
   ],
   "source": [
    "data[data['Tenure'].isnull() == True].head(10)"
   ]
  },
  {
   "cell_type": "code",
   "execution_count": 9,
   "metadata": {},
   "outputs": [
    {
     "data": {
      "text/plain": [
       "0"
      ]
     },
     "execution_count": 9,
     "metadata": {},
     "output_type": "execute_result"
    }
   ],
   "source": [
    "#Проверим данные на дубликаты\n",
    "data.duplicated().sum()"
   ]
  },
  {
   "cell_type": "code",
   "execution_count": 10,
   "metadata": {},
   "outputs": [
    {
     "data": {
      "text/html": [
       "<div>\n",
       "<style scoped>\n",
       "    .dataframe tbody tr th:only-of-type {\n",
       "        vertical-align: middle;\n",
       "    }\n",
       "\n",
       "    .dataframe tbody tr th {\n",
       "        vertical-align: top;\n",
       "    }\n",
       "\n",
       "    .dataframe thead th {\n",
       "        text-align: right;\n",
       "    }\n",
       "</style>\n",
       "<table border=\"1\" class=\"dataframe\">\n",
       "  <thead>\n",
       "    <tr style=\"text-align: right;\">\n",
       "      <th></th>\n",
       "      <th>RowNumber</th>\n",
       "      <th>CustomerId</th>\n",
       "      <th>CreditScore</th>\n",
       "      <th>Age</th>\n",
       "      <th>Tenure</th>\n",
       "      <th>Balance</th>\n",
       "      <th>NumOfProducts</th>\n",
       "      <th>HasCrCard</th>\n",
       "      <th>IsActiveMember</th>\n",
       "      <th>EstimatedSalary</th>\n",
       "      <th>Exited</th>\n",
       "    </tr>\n",
       "  </thead>\n",
       "  <tbody>\n",
       "    <tr>\n",
       "      <th>count</th>\n",
       "      <td>10000.00000</td>\n",
       "      <td>1.000000e+04</td>\n",
       "      <td>10000.000000</td>\n",
       "      <td>10000.000000</td>\n",
       "      <td>9091.000000</td>\n",
       "      <td>10000.000000</td>\n",
       "      <td>10000.000000</td>\n",
       "      <td>10000.00000</td>\n",
       "      <td>10000.000000</td>\n",
       "      <td>10000.000000</td>\n",
       "      <td>10000.000000</td>\n",
       "    </tr>\n",
       "    <tr>\n",
       "      <th>mean</th>\n",
       "      <td>5000.50000</td>\n",
       "      <td>1.569094e+07</td>\n",
       "      <td>650.528800</td>\n",
       "      <td>38.921800</td>\n",
       "      <td>4.997690</td>\n",
       "      <td>76485.889288</td>\n",
       "      <td>1.530200</td>\n",
       "      <td>0.70550</td>\n",
       "      <td>0.515100</td>\n",
       "      <td>100090.239881</td>\n",
       "      <td>0.203700</td>\n",
       "    </tr>\n",
       "    <tr>\n",
       "      <th>std</th>\n",
       "      <td>2886.89568</td>\n",
       "      <td>7.193619e+04</td>\n",
       "      <td>96.653299</td>\n",
       "      <td>10.487806</td>\n",
       "      <td>2.894723</td>\n",
       "      <td>62397.405202</td>\n",
       "      <td>0.581654</td>\n",
       "      <td>0.45584</td>\n",
       "      <td>0.499797</td>\n",
       "      <td>57510.492818</td>\n",
       "      <td>0.402769</td>\n",
       "    </tr>\n",
       "    <tr>\n",
       "      <th>min</th>\n",
       "      <td>1.00000</td>\n",
       "      <td>1.556570e+07</td>\n",
       "      <td>350.000000</td>\n",
       "      <td>18.000000</td>\n",
       "      <td>0.000000</td>\n",
       "      <td>0.000000</td>\n",
       "      <td>1.000000</td>\n",
       "      <td>0.00000</td>\n",
       "      <td>0.000000</td>\n",
       "      <td>11.580000</td>\n",
       "      <td>0.000000</td>\n",
       "    </tr>\n",
       "    <tr>\n",
       "      <th>25%</th>\n",
       "      <td>2500.75000</td>\n",
       "      <td>1.562853e+07</td>\n",
       "      <td>584.000000</td>\n",
       "      <td>32.000000</td>\n",
       "      <td>2.000000</td>\n",
       "      <td>0.000000</td>\n",
       "      <td>1.000000</td>\n",
       "      <td>0.00000</td>\n",
       "      <td>0.000000</td>\n",
       "      <td>51002.110000</td>\n",
       "      <td>0.000000</td>\n",
       "    </tr>\n",
       "    <tr>\n",
       "      <th>50%</th>\n",
       "      <td>5000.50000</td>\n",
       "      <td>1.569074e+07</td>\n",
       "      <td>652.000000</td>\n",
       "      <td>37.000000</td>\n",
       "      <td>5.000000</td>\n",
       "      <td>97198.540000</td>\n",
       "      <td>1.000000</td>\n",
       "      <td>1.00000</td>\n",
       "      <td>1.000000</td>\n",
       "      <td>100193.915000</td>\n",
       "      <td>0.000000</td>\n",
       "    </tr>\n",
       "    <tr>\n",
       "      <th>75%</th>\n",
       "      <td>7500.25000</td>\n",
       "      <td>1.575323e+07</td>\n",
       "      <td>718.000000</td>\n",
       "      <td>44.000000</td>\n",
       "      <td>7.000000</td>\n",
       "      <td>127644.240000</td>\n",
       "      <td>2.000000</td>\n",
       "      <td>1.00000</td>\n",
       "      <td>1.000000</td>\n",
       "      <td>149388.247500</td>\n",
       "      <td>0.000000</td>\n",
       "    </tr>\n",
       "    <tr>\n",
       "      <th>max</th>\n",
       "      <td>10000.00000</td>\n",
       "      <td>1.581569e+07</td>\n",
       "      <td>850.000000</td>\n",
       "      <td>92.000000</td>\n",
       "      <td>10.000000</td>\n",
       "      <td>250898.090000</td>\n",
       "      <td>4.000000</td>\n",
       "      <td>1.00000</td>\n",
       "      <td>1.000000</td>\n",
       "      <td>199992.480000</td>\n",
       "      <td>1.000000</td>\n",
       "    </tr>\n",
       "  </tbody>\n",
       "</table>\n",
       "</div>"
      ],
      "text/plain": [
       "         RowNumber    CustomerId   CreditScore           Age       Tenure  \\\n",
       "count  10000.00000  1.000000e+04  10000.000000  10000.000000  9091.000000   \n",
       "mean    5000.50000  1.569094e+07    650.528800     38.921800     4.997690   \n",
       "std     2886.89568  7.193619e+04     96.653299     10.487806     2.894723   \n",
       "min        1.00000  1.556570e+07    350.000000     18.000000     0.000000   \n",
       "25%     2500.75000  1.562853e+07    584.000000     32.000000     2.000000   \n",
       "50%     5000.50000  1.569074e+07    652.000000     37.000000     5.000000   \n",
       "75%     7500.25000  1.575323e+07    718.000000     44.000000     7.000000   \n",
       "max    10000.00000  1.581569e+07    850.000000     92.000000    10.000000   \n",
       "\n",
       "             Balance  NumOfProducts    HasCrCard  IsActiveMember  \\\n",
       "count   10000.000000   10000.000000  10000.00000    10000.000000   \n",
       "mean    76485.889288       1.530200      0.70550        0.515100   \n",
       "std     62397.405202       0.581654      0.45584        0.499797   \n",
       "min         0.000000       1.000000      0.00000        0.000000   \n",
       "25%         0.000000       1.000000      0.00000        0.000000   \n",
       "50%     97198.540000       1.000000      1.00000        1.000000   \n",
       "75%    127644.240000       2.000000      1.00000        1.000000   \n",
       "max    250898.090000       4.000000      1.00000        1.000000   \n",
       "\n",
       "       EstimatedSalary        Exited  \n",
       "count     10000.000000  10000.000000  \n",
       "mean     100090.239881      0.203700  \n",
       "std       57510.492818      0.402769  \n",
       "min          11.580000      0.000000  \n",
       "25%       51002.110000      0.000000  \n",
       "50%      100193.915000      0.000000  \n",
       "75%      149388.247500      0.000000  \n",
       "max      199992.480000      1.000000  "
      ]
     },
     "execution_count": 10,
     "metadata": {},
     "output_type": "execute_result"
    }
   ],
   "source": [
    "data.describe()"
   ]
  },
  {
   "cell_type": "markdown",
   "metadata": {},
   "source": [
    "**Вывод**\n",
    "В колонке Tenure есть пропущенные значения, однако, данные необходимо исследовать, чтобы определиться, что делать со столбцом"
   ]
  },
  {
   "cell_type": "markdown",
   "metadata": {},
   "source": [
    "## Исследование задачи"
   ]
  },
  {
   "cell_type": "code",
   "execution_count": 11,
   "metadata": {},
   "outputs": [
    {
     "data": {
      "image/png": "[encoded data removed]",
      "text/plain": [
       "<Figure size 720x720 with 2 Axes>"
      ]
     },
     "metadata": {
      "needs_background": "light"
     },
     "output_type": "display_data"
    }
   ],
   "source": [
    "# Посмотрим корреляцию между признаками\n",
    "plt.figure(figsize=(10, 10))\n",
    "sns.heatmap(data.corr(), annot=True, fmt='.2f', cmap='RdYlGn')\n",
    "plt.title('Корреляция между признаками')\n",
    "plt.show();\n"
   ]
  },
  {
   "cell_type": "markdown",
   "metadata": {},
   "source": [
    "Явной зависимости между данными нет. Есть небольшая корреляция между балансом и количеством продуктов, что логично. Чем больше продуктов у человека, тем меньше его баланс.Также есть небольшая зависимость между возрастом и уходом клиента."
   ]
  },
  {
   "cell_type": "markdown",
   "metadata": {},
   "source": [
    "Столбцы `RowNumber`, `CustomerId`, `Surname` явно не влияют на то, уйдет человек из банка или нет. Избавимся от этих столбцов."
   ]
  },
  {
   "cell_type": "code",
   "execution_count": 12,
   "metadata": {},
   "outputs": [],
   "source": [
    "data.drop(['RowNumber','CustomerId','Surname'], axis='columns', inplace=True)"
   ]
  },
  {
   "cell_type": "code",
   "execution_count": 13,
   "metadata": {},
   "outputs": [
    {
     "data": {
      "image/png": "[encoded data removed]",
      "text/plain": [
       "<Figure size 432x288 with 1 Axes>"
      ]
     },
     "metadata": {
      "needs_background": "light"
     },
     "output_type": "display_data"
    }
   ],
   "source": [
    "#Данные распределены от 0 до 10\n",
    "data['Tenure'].value_counts()\n",
    "# построим гистограмму по столбцу Tenure\n",
    "plt.figure()\n",
    "data['Tenure'].hist(bins=11, facecolor='red', alpha = 0.2)\n",
    "plt.xlabel('Сколько лет человек является клиентом банка')\n",
    "plt.ylabel('Количество человек')\n",
    "plt.title('Распределение по количеству лет')\n",
    "plt.show()"
   ]
  },
  {
   "cell_type": "code",
   "execution_count": 14,
   "metadata": {},
   "outputs": [],
   "source": [
    "data.loc[data['Tenure'].isnull() == True,'Tenure'] = np.random.randint(0,10,size=data['Tenure'].isnull().sum())"
   ]
  },
  {
   "cell_type": "code",
   "execution_count": 15,
   "metadata": {},
   "outputs": [
    {
     "data": {
      "image/png": "[encoded data removed]",
      "text/plain": [
       "<Figure size 432x288 with 1 Axes>"
      ]
     },
     "metadata": {
      "needs_background": "light"
     },
     "output_type": "display_data"
    }
   ],
   "source": [
    "#Проверим еще раз гистограмму распределния\n",
    "plt.figure()\n",
    "data['Tenure'].hist(bins=11, facecolor='red', alpha = 0.2)\n",
    "plt.xlabel('Сколько лет человек является клиентом банка')\n",
    "plt.ylabel('Количество человек')\n",
    "plt.title('Распределение по количеству лет')\n",
    "plt.show()"
   ]
  },
  {
   "cell_type": "code",
   "execution_count": 16,
   "metadata": {},
   "outputs": [
    {
     "name": "stdout",
     "output_type": "stream",
     "text": [
      "<class 'pandas.core.frame.DataFrame'>\n",
      "RangeIndex: 10000 entries, 0 to 9999\n",
      "Data columns (total 11 columns):\n",
      " #   Column           Non-Null Count  Dtype  \n",
      "---  ------           --------------  -----  \n",
      " 0   CreditScore      10000 non-null  int64  \n",
      " 1   Geography        10000 non-null  object \n",
      " 2   Gender           10000 non-null  object \n",
      " 3   Age              10000 non-null  int64  \n",
      " 4   Tenure           10000 non-null  float64\n",
      " 5   Balance          10000 non-null  float64\n",
      " 6   NumOfProducts    10000 non-null  int64  \n",
      " 7   HasCrCard        10000 non-null  int64  \n",
      " 8   IsActiveMember   10000 non-null  int64  \n",
      " 9   EstimatedSalary  10000 non-null  float64\n",
      " 10  Exited           10000 non-null  int64  \n",
      "dtypes: float64(3), int64(6), object(2)\n",
      "memory usage: 859.5+ KB\n"
     ]
    }
   ],
   "source": [
    "data.info()"
   ]
  },
  {
   "cell_type": "code",
   "execution_count": 17,
   "metadata": {},
   "outputs": [
    {
     "data": {
      "text/plain": [
       "0    79.63\n",
       "1    20.37\n",
       "Name: Exited, dtype: float64"
      ]
     },
     "execution_count": 17,
     "metadata": {},
     "output_type": "execute_result"
    }
   ],
   "source": [
    "data['Exited'].value_counts()/len(data)*100\n",
    "# Данные не сбалансированы. Учтем в дальнейшем данный дисбаланс классов."
   ]
  },
  {
   "cell_type": "code",
   "execution_count": 18,
   "metadata": {},
   "outputs": [],
   "source": [
    "# Данные предобработаны, можно начинать анализ\n",
    "# Целевой признак - столбец is_ultra, все остальные данные занесем в features\n",
    "features = data.drop(['Exited'], axis = 1) \n",
    "target = data['Exited']\n"
   ]
  },
  {
   "cell_type": "code",
   "execution_count": 19,
   "metadata": {},
   "outputs": [],
   "source": [
    "# Разделим исходные данные на обучающую, валидационную и тестовую выборки в пропорции 60% - обучающая, 20% - тестовая, 20% - валидационная\n",
    "features_data, features_valid, target_data, target_valid = ( \n",
    "                                train_test_split(\n",
    "                                features, target, test_size=0.2, random_state=42, stratify = target))\n",
    "# Разделим исходные данные на обучающую, валидационную и тестовую выборки в пропорции 60% - обучающая, 20% - тестовая, 20% - валидационная\n",
    "features_train, features_test, target_train, target_test = ( \n",
    "                                train_test_split(\n",
    "                                features_data, target_data, test_size=0.25, random_state=42, stratify = target_data)\n",
    ")"
   ]
  },
  {
   "cell_type": "code",
   "execution_count": 20,
   "metadata": {},
   "outputs": [
    {
     "data": {
      "text/plain": [
       "(6000, 10)"
      ]
     },
     "execution_count": 20,
     "metadata": {},
     "output_type": "execute_result"
    }
   ],
   "source": [
    "features_train.shape"
   ]
  },
  {
   "cell_type": "code",
   "execution_count": 21,
   "metadata": {
    "scrolled": true
   },
   "outputs": [
    {
     "data": {
      "text/plain": [
       "(2000, 10)"
      ]
     },
     "execution_count": 21,
     "metadata": {},
     "output_type": "execute_result"
    }
   ],
   "source": [
    "features_valid.shape"
   ]
  },
  {
   "cell_type": "code",
   "execution_count": 22,
   "metadata": {},
   "outputs": [
    {
     "data": {
      "text/plain": [
       "(2000, 10)"
      ]
     },
     "execution_count": 22,
     "metadata": {},
     "output_type": "execute_result"
    }
   ],
   "source": [
    "features_test.shape"
   ]
  },
  {
   "cell_type": "code",
   "execution_count": 23,
   "metadata": {},
   "outputs": [],
   "source": [
    "features_train = pd.get_dummies(features_train, drop_first=True)\n",
    "features_valid = pd.get_dummies(features_valid, drop_first=True)\n",
    "features_test = pd.get_dummies(features_test, drop_first=True)"
   ]
  },
  {
   "cell_type": "markdown",
   "metadata": {},
   "source": [
    "**Вывод**\n",
    "Исходные данные разделены на обучающую, валидационную и тестовую выборки в процентах (60%, 20%, 20%). Явной зависимости между данными не обнаружено. Колонки, которые усложняют анализ удалены. "
   ]
  },
  {
   "cell_type": "code",
   "execution_count": 24,
   "metadata": {},
   "outputs": [],
   "source": [
    "#Так как данные имеют разный масштаб, стандартизируем численные признаки\n",
    "#Создадим список с числовыми столбцами\n",
    "numeric = ['Age','Balance','EstimatedSalary', 'CreditScore', 'Tenure']"
   ]
  },
  {
   "cell_type": "code",
   "execution_count": 25,
   "metadata": {},
   "outputs": [],
   "source": [
    "scaler = StandardScaler()\n",
    "scaler.fit(features_train[numeric])\n",
    "features_train[numeric] = scaler.transform(features_train[numeric])\n",
    "features_valid[numeric] = scaler.transform(features_valid[numeric])\n",
    "features_test[numeric] = scaler.transform(features_test[numeric])\n",
    "pd.options.mode.chained_assignment = None"
   ]
  },
  {
   "cell_type": "code",
   "execution_count": 26,
   "metadata": {},
   "outputs": [
    {
     "data": {
      "text/plain": [
       "(6000, 11)"
      ]
     },
     "execution_count": 26,
     "metadata": {},
     "output_type": "execute_result"
    }
   ],
   "source": [
    "features_train.shape"
   ]
  },
  {
   "cell_type": "markdown",
   "metadata": {},
   "source": [
    "# Модели без учета дисбаланса"
   ]
  },
  {
   "cell_type": "code",
   "execution_count": null,
   "metadata": {},
   "outputs": [],
   "source": [
    "%%time\n",
    "RanForClas = RandomForestClassifier()\n",
    "RanForClas_params = {'n_estimators': range (1, 30), 'max_depth': range (1,30)}\n",
    "RanForClas_grid = GridSearchCV(RanForClas, RanForClas_params, n_jobs=-1, scoring='accuracy')\n",
    "RanForClas_grid.fit(features_train, target_train)\n",
    "print('Точность модели случайный лес', '{:.2f}'.format(RanForClas_grid.best_score_), 'с параметрами', RanForClas_grid.best_params_ )"
   ]
  },
  {
   "cell_type": "code",
   "execution_count": null,
   "metadata": {},
   "outputs": [],
   "source": [
    "%%time\n",
    "DecTreeClas = DecisionTreeClassifier()\n",
    "DecTreeClas_params = {'max_depth': range (1,30)}\n",
    "DecTreeClas_grid = GridSearchCV(DecTreeClas, DecTreeClas_params, n_jobs=-1, scoring='accuracy')\n",
    "DecTreeClas_grid.fit(features_train, target_train)\n",
    "print('Точность лучшей модели дерево решений', '{:.2f}'.format(DecTreeClas_grid.best_score_), 'с параметрами', DecTreeClas_grid.best_params_ )\n"
   ]
  },
  {
   "cell_type": "code",
   "execution_count": null,
   "metadata": {},
   "outputs": [],
   "source": [
    "dummy_clf = DummyClassifier(strategy=\"most_frequent\", random_state=0)\n",
    "dummy_clf.fit(features_train, target_train)\n",
    "'{:.2f}'.format(dummy_clf.score(features_train, target_train))"
   ]
  },
  {
   "cell_type": "markdown",
   "metadata": {},
   "source": [
    "Так как модели не сбалансированы, то точность у наивной модели примерно такая же как и у моделей случайного леса и дерева решения. Нужно бороться с дисбалансом"
   ]
  },
  {
   "cell_type": "markdown",
   "metadata": {},
   "source": [
    "## Борьба с дисбалансом"
   ]
  },
  {
   "cell_type": "markdown",
   "metadata": {},
   "source": [
    "Уравновесим данные с помощью upsampling "
   ]
  },
  {
   "cell_type": "code",
   "execution_count": null,
   "metadata": {},
   "outputs": [],
   "source": [
    "features_upsampled, target_upsampled = SMOTE(random_state=0).fit_resample(features_train, target_train)\n",
    "features_upsampled.sample(5)"
   ]
  },
  {
   "cell_type": "code",
   "execution_count": null,
   "metadata": {},
   "outputs": [],
   "source": [
    "target_upsampled.value_counts()/len(target_upsampled)*100"
   ]
  },
  {
   "cell_type": "code",
   "execution_count": null,
   "metadata": {},
   "outputs": [],
   "source": [
    "features_downsampled, target_downsampled = RandomUnderSampler().fit_resample(features_train, target_train)"
   ]
  },
  {
   "cell_type": "code",
   "execution_count": null,
   "metadata": {},
   "outputs": [],
   "source": [
    "target_downsampled.value_counts()/len(target_downsampled)*100"
   ]
  },
  {
   "cell_type": "markdown",
   "metadata": {},
   "source": [
    "Для борьбы с дисбалансом уравновесили наши выборки двумя разными методами. Теперь проверим AUC-ROC и F1 на моделях"
   ]
  },
  {
   "cell_type": "code",
   "execution_count": null,
   "metadata": {},
   "outputs": [],
   "source": [
    "%%time\n",
    "RanForClas = RandomForestClassifier()\n",
    "RanForClas_params = {'n_estimators': range (10, 101, 10), 'max_depth': range (1,30), 'class_weight': [None, 'balanced']}\n",
    "RanForClas_grid = GridSearchCV(RanForClas, RanForClas_params, n_jobs=-1, scoring='accuracy')\n",
    "RanForClas_grid.fit(features_train, target_train)\n",
    "probabilities_valid = RanForClas_grid.predict_proba(features_valid)\n",
    "probabilities_one_valid = probabilities_valid[:, 1]\n",
    "\n",
    "auc_roc = roc_auc_score(target_valid, probabilities_one_valid)\n",
    "predictions = RanForClas_grid.predict(features_valid)\n",
    "F1 = f1_score(target_valid, predictions)\n",
    "fpr, tpr, thresholds = roc_curve(target_valid, probabilities_one_valid) \n",
    "\n",
    "\n",
    "plt.figure()\n",
    "plt.plot(fpr, tpr)\n",
    "plt.plot([0, 1], [0, 1], linestyle='--')\n",
    "plt.xlim([0.0, 1.0])\n",
    "plt.ylim([0.0, 1.0])\n",
    "plt.xlabel('False Positive Rate')\n",
    "plt.ylabel('True Positive Rate')\n",
    "plt.title('ROC-кривая')\n",
    "plt.show()\n",
    "print('AUC-ROC модели случайный лес (классы не сбалансированы)','{:.2f}'.format(auc_roc))\n",
    "print('F1 модели случайный лес (классы не сбалансированы)',\\\n",
    "      '{:.2f}'.format(F1), 'с параметрами', RanForClas_grid.best_params_ )"
   ]
  },
  {
   "cell_type": "code",
   "execution_count": null,
   "metadata": {},
   "outputs": [],
   "source": [
    "%%time\n",
    "RanForClas = RandomForestClassifier()\n",
    "RanForClas_params = {'n_estimators': range (10, 101, 10), 'max_depth': range (1,30)}\n",
    "RanForClas_grid_up = GridSearchCV(RanForClas, RanForClas_params, n_jobs=-1, scoring='accuracy')\n",
    "RanForClas_grid_up.fit(features_upsampled, target_upsampled)\n",
    "probabilities_valid = RanForClas_grid_up.predict_proba(features_valid)\n",
    "probabilities_one_valid = probabilities_valid[:, 1]\n",
    "\n",
    "auc_roc = roc_auc_score(target_valid, probabilities_one_valid)\n",
    "predictions = RanForClas_grid_up.predict(features_valid)\n",
    "F1 = f1_score(target_valid, predictions)\n",
    "fpr, tpr, thresholds = roc_curve(target_valid, probabilities_one_valid) \n",
    "\n",
    "plt.figure()\n",
    "plt.plot(fpr, tpr)\n",
    "plt.plot([0, 1], [0, 1], linestyle='--')\n",
    "plt.xlim([0.0, 1.0])\n",
    "plt.ylim([0.0, 1.0])\n",
    "plt.xlabel('False Positive Rate')\n",
    "plt.ylabel('True Positive Rate')\n",
    "plt.title('ROC-кривая')\n",
    "plt.show()\n",
    "print('AUC-ROC модели случайный лес (сбалансированны классы, увеличением выборки)','{:.2f}'.format(auc_roc))\n",
    "print('F1 модели случайный лес (сбалансированны классы, увеличением выборки)',\\\n",
    "      '{:.2f}'.format(F1), 'с параметрами', RanForClas_grid_up.best_params_ )"
   ]
  },
  {
   "cell_type": "code",
   "execution_count": null,
   "metadata": {},
   "outputs": [],
   "source": [
    "%%time\n",
    "RanForClas = RandomForestClassifier()\n",
    "RanForClas_params = {'n_estimators': range (10, 100, 10), 'max_depth': range (1,30)}\n",
    "RanForClas_grid_dw = GridSearchCV(RanForClas, RanForClas_params, n_jobs=-1, scoring='accuracy')\n",
    "RanForClas_grid_dw.fit(features_downsampled, target_downsampled)\n",
    "probabilities_valid = RanForClas_grid_dw.predict_proba(features_valid)\n",
    "probabilities_one_valid = probabilities_valid[:, 1]\n",
    "\n",
    "auc_roc = roc_auc_score(target_valid, probabilities_one_valid)\n",
    "predictions = RanForClas_grid_dw.predict(features_valid)\n",
    "F1 = f1_score(target_valid, predictions)\n",
    "fpr, tpr, thresholds = roc_curve(target_valid, probabilities_one_valid) \n",
    "\n",
    "plt.figure()\n",
    "plt.plot(fpr, tpr)\n",
    "plt.plot([0, 1], [0, 1], linestyle='--')\n",
    "plt.xlim([0.0, 1.0])\n",
    "plt.ylim([0.0, 1.0])\n",
    "plt.xlabel('False Positive Rate')\n",
    "plt.ylabel('True Positive Rate')\n",
    "plt.title('ROC-кривая')\n",
    "plt.show()\n",
    "print('AUC-ROC модели случайный лес (сбалансированны классы, уменьшением выборки)','{:.2f}'.format(auc_roc))\n",
    "print('F1 модели случайный лес (сбалансированны классы, уменьшением выборки)',\\\n",
    "      '{:.2f}'.format(F1), 'с параметрами', RanForClas_grid_dw.best_params_ )"
   ]
  },
  {
   "cell_type": "code",
   "execution_count": null,
   "metadata": {},
   "outputs": [],
   "source": [
    "%%time\n",
    "DecTreeClas = DecisionTreeClassifier()\n",
    "DecTreeClas_params = {'max_depth': range (1,30)}\n",
    "DecTreeClas_grid = GridSearchCV(DecTreeClas, DecTreeClas_params, n_jobs=-1, scoring='accuracy')\n",
    "DecTreeClas_grid.fit(features_train, target_train)\n",
    "probabilities_valid = DecTreeClas_grid.predict_proba(features_valid)\n",
    "probabilities_one_valid = probabilities_valid[:, 1]\n",
    "\n",
    "auc_roc = roc_auc_score(target_valid, probabilities_one_valid)\n",
    "predictions = DecTreeClas_grid.predict(features_valid)\n",
    "F1 = f1_score(target_valid, predictions)\n",
    "fpr, tpr, thresholds = roc_curve(target_valid, probabilities_one_valid) \n",
    "\n",
    "plt.figure()\n",
    "plt.plot(fpr, tpr)\n",
    "plt.plot([0, 1], [0, 1], linestyle='--')\n",
    "plt.xlim([0.0, 1.0])\n",
    "plt.ylim([0.0, 1.0])\n",
    "plt.xlabel('False Positive Rate')\n",
    "plt.ylabel('True Positive Rate')\n",
    "plt.title('ROC-кривая')\n",
    "plt.show()\n",
    "print('AUC-ROC модели дерево решений (классы не сбалансированы)','{:.2f}'.format(auc_roc))\n",
    "print('F1 модели дерево решений (классы не сбалансированы)',\\\n",
    "      '{:.2f}'.format(F1), 'с параметрами', DecTreeClas_grid.best_params_ )"
   ]
  },
  {
   "cell_type": "code",
   "execution_count": null,
   "metadata": {},
   "outputs": [],
   "source": [
    "%%time\n",
    "DecTreeClas = DecisionTreeClassifier()\n",
    "DecTreeClas_params = {'max_depth': range (1,30)}\n",
    "DecTreeClas_grid_up = GridSearchCV(DecTreeClas, DecTreeClas_params, n_jobs=-1, scoring='accuracy')\n",
    "DecTreeClas_grid_up.fit(features_upsampled, target_upsampled)\n",
    "probabilities_valid = DecTreeClas_grid_up.predict_proba(features_valid)\n",
    "probabilities_one_valid = probabilities_valid[:, 1]\n",
    "\n",
    "auc_roc = roc_auc_score(target_valid, probabilities_one_valid)\n",
    "predictions = DecTreeClas_grid_up.predict(features_valid)\n",
    "F1 = f1_score(target_valid, predictions)\n",
    "fpr, tpr, thresholds = roc_curve(target_valid, probabilities_one_valid) \n",
    "\n",
    "plt.figure()\n",
    "plt.plot(fpr, tpr)\n",
    "plt.plot([0, 1], [0, 1], linestyle='--')\n",
    "plt.xlim([0.0, 1.0])\n",
    "plt.ylim([0.0, 1.0])\n",
    "plt.xlabel('False Positive Rate')\n",
    "plt.ylabel('True Positive Rate')\n",
    "plt.title('ROC-кривая')\n",
    "plt.show()\n",
    "print('AUC-ROC модели дерево решений (сбалансированны классы, увеличением выборки)','{:.2f}'.format(auc_roc))\n",
    "print('F1 модели дерево решений (сбалансированны классы, увеличением выборки)',\\\n",
    "      '{:.2f}'.format(F1), 'с параметрами', DecTreeClas_grid_up.best_params_ )"
   ]
  },
  {
   "cell_type": "code",
   "execution_count": null,
   "metadata": {},
   "outputs": [],
   "source": [
    "%%time\n",
    "DecTreeClas = DecisionTreeClassifier()\n",
    "DecTreeClas_params = {'max_depth': range (1,30)}\n",
    "DecTreeClas_grid_dw = GridSearchCV(DecTreeClas, DecTreeClas_params, n_jobs=-1, scoring='accuracy')\n",
    "DecTreeClas_grid_dw.fit(features_downsampled, target_downsampled)\n",
    "probabilities_valid = DecTreeClas_grid_dw.predict_proba(features_valid)\n",
    "probabilities_one_valid = probabilities_valid[:, 1]\n",
    "\n",
    "auc_roc = roc_auc_score(target_valid, probabilities_one_valid)\n",
    "predictions = DecTreeClas_grid_dw.predict(features_valid)\n",
    "F1 = f1_score(target_valid, predictions)\n",
    "fpr, tpr, thresholds = roc_curve(target_valid, probabilities_one_valid) \n",
    "\n",
    "plt.figure()\n",
    "plt.plot(fpr, tpr)\n",
    "plt.plot([0, 1], [0, 1], linestyle='--')\n",
    "plt.xlim([0.0, 1.0])\n",
    "plt.ylim([0.0, 1.0])\n",
    "plt.xlabel('False Positive Rate')\n",
    "plt.ylabel('True Positive Rate')\n",
    "plt.title('ROC-кривая')\n",
    "plt.show()\n",
    "print('AUC-ROC модели дерево решений (сбалансированны классы, уменьшением выборки)','{:.2f}'.format(auc_roc))\n",
    "print('F1 модели дерево решений (сбалансированны классы, уменьшением выборки)',\\\n",
    "      '{:.2f}'.format(F1), 'с параметрами', DecTreeClas_grid_dw.best_params_ )"
   ]
  },
  {
   "cell_type": "code",
   "execution_count": null,
   "metadata": {},
   "outputs": [],
   "source": [
    "BestModel = RanForClas_grid_up.best_estimator_\n",
    "BestModel"
   ]
  },
  {
   "cell_type": "markdown",
   "metadata": {},
   "source": [
    "Наилучшей моделью является Модель случайного леса, в которой сбалансировали классы, увеличением выборки. AUC-ROC такой модели 0.85. F1 модели 0.59 с параметрами `max_depth`: 24, `n_estimators`: 90"
   ]
  },
  {
   "cell_type": "markdown",
   "metadata": {},
   "source": [
    "## Тестирование модели"
   ]
  },
  {
   "cell_type": "code",
   "execution_count": null,
   "metadata": {},
   "outputs": [],
   "source": [
    "features_train = pd.concat([features_train, features_valid])\n",
    "target_train = pd.concat([target_train, target_valid])\n",
    "BestModel.fit(features_train, target_train)\n",
    "predictions = BestModel.predict(features_test)\n",
    "accuracy = accuracy_score(target_test, predictions)\n",
    "F1 = f1_score(target_test, predictions)\n",
    "probabilities_valid = BestModel.predict_proba(features_test)\n",
    "probabilities_one_valid = probabilities_valid[:, 1]\n",
    "\n",
    "auc_roc = roc_auc_score(target_test, probabilities_one_valid)\n",
    "\n",
    "fpr, tpr, thresholds = roc_curve(target_test, probabilities_one_valid) \n",
    "\n",
    "plt.figure()\n",
    "plt.plot(fpr, tpr)\n",
    "plt.plot([0, 1], [0, 1], linestyle='--')\n",
    "plt.xlim([0.0, 1.0])\n",
    "plt.ylim([0.0, 1.0])\n",
    "plt.xlabel('False Positive Rate')\n",
    "plt.ylabel('True Positive Rate')\n",
    "plt.title('ROC-кривая')\n",
    "plt.show()\n",
    "print('AUC-ROC наилучшей модели на тестовой выборке', '{:.2f}'.format(auc_roc))\n",
    "print('F1 наилучшей модели на тестовой выборке','{:.2f}'.format(F1))\n",
    "print('Accuracy наилучшей модели на тестовой выборке','{:.3f}'.format(accuracy))"
   ]
  },
  {
   "cell_type": "markdown",
   "metadata": {},
   "source": [
    "**Вывод**\n",
    "F1 наилучшей модели на тестовой выборке равна 0.60\n",
    "AUC-ROC наилучшей модели на тестовой выборке 0.85\n",
    "Accuracy наилучшей модели на тестовой выборке 0.868"
   ]
  },
  {
   "cell_type": "markdown",
   "metadata": {},
   "source": [
    "# Вывод\n",
    "В ходе работы были выполнены следующие шаги:\n",
    "- Данные были подготовлены и проанализированы, данные, которые усложняли анализ удалены.\n",
    "- Исследован балланс классов\n",
    "- Проанализованы модели, как с учетом баланса классов, так и без него.\n",
    "- Выбрана наилучшая модель - Модель случайного леса, в которой сбалансировали классы, увеличением выборки. AUC-ROC такой модели 0.85. F1 модели 0.59 с параметрами `max_depth`: 24, `n_estimators`: 90. На тестовой выборке такая модель показала следующие результаты: AUC-ROC такой модели 0.85. F1 модели 0.60 с параметрами `max_depth`: 24, `n_estimators`: 90."
   ]
  }
 ],
 "metadata": {
  "ExecuteTimeLog": [
   {
    "duration": 1805,
    "start_time": "2022-11-24T08:42:13.921Z"
   },
   {
    "duration": 166,
    "start_time": "2022-11-24T08:42:42.375Z"
   },
   {
    "duration": 19,
    "start_time": "2022-11-24T08:42:52.438Z"
   },
   {
    "duration": 15,
    "start_time": "2022-11-24T08:44:13.559Z"
   },
   {
    "duration": 115,
    "start_time": "2022-11-24T08:51:31.073Z"
   },
   {
    "duration": 45,
    "start_time": "2022-11-24T08:51:35.914Z"
   },
   {
    "duration": 12,
    "start_time": "2022-11-24T09:02:10.294Z"
   },
   {
    "duration": 11,
    "start_time": "2022-11-24T09:02:46.240Z"
   },
   {
    "duration": 19,
    "start_time": "2022-11-24T09:03:19.027Z"
   },
   {
    "duration": 16,
    "start_time": "2022-11-24T09:03:45.725Z"
   },
   {
    "duration": 18,
    "start_time": "2022-11-24T09:07:20.813Z"
   },
   {
    "duration": 10,
    "start_time": "2022-11-24T09:14:05.428Z"
   },
   {
    "duration": 11,
    "start_time": "2022-11-24T09:14:09.543Z"
   },
   {
    "duration": 14,
    "start_time": "2022-11-24T09:14:20.246Z"
   },
   {
    "duration": 30,
    "start_time": "2022-11-24T09:14:27.398Z"
   },
   {
    "duration": 9,
    "start_time": "2022-11-24T09:14:52.583Z"
   },
   {
    "duration": 14,
    "start_time": "2022-11-24T09:14:59.151Z"
   },
   {
    "duration": 17,
    "start_time": "2022-11-24T09:15:16.880Z"
   },
   {
    "duration": 29,
    "start_time": "2022-11-24T09:15:21.781Z"
   },
   {
    "duration": 16,
    "start_time": "2022-11-24T09:15:28.674Z"
   },
   {
    "duration": 4,
    "start_time": "2022-11-24T09:18:11.298Z"
   },
   {
    "duration": 13,
    "start_time": "2022-11-24T09:18:26.197Z"
   },
   {
    "duration": 9,
    "start_time": "2022-11-24T09:18:36.680Z"
   },
   {
    "duration": 12,
    "start_time": "2022-11-24T09:18:44.041Z"
   },
   {
    "duration": 1551,
    "start_time": "2022-11-24T09:19:01.330Z"
   },
   {
    "duration": 42,
    "start_time": "2022-11-24T09:19:02.885Z"
   },
   {
    "duration": 23,
    "start_time": "2022-11-24T09:19:02.929Z"
   },
   {
    "duration": 31,
    "start_time": "2022-11-24T09:19:02.955Z"
   },
   {
    "duration": 51,
    "start_time": "2022-11-24T09:19:02.988Z"
   },
   {
    "duration": 5,
    "start_time": "2022-11-24T09:19:03.041Z"
   },
   {
    "duration": 6,
    "start_time": "2022-11-24T09:19:07.088Z"
   },
   {
    "duration": 13,
    "start_time": "2022-11-24T09:19:09.315Z"
   },
   {
    "duration": 13,
    "start_time": "2022-11-24T09:19:15.001Z"
   },
   {
    "duration": 39,
    "start_time": "2022-11-24T09:19:52.413Z"
   },
   {
    "duration": 7335,
    "start_time": "2022-11-24T09:23:36.186Z"
   },
   {
    "duration": 6875,
    "start_time": "2022-11-24T09:25:53.016Z"
   },
   {
    "duration": 916,
    "start_time": "2022-11-24T09:26:00.675Z"
   },
   {
    "duration": 1209,
    "start_time": "2022-11-24T09:27:00.117Z"
   },
   {
    "duration": 912,
    "start_time": "2022-11-24T09:27:12.445Z"
   },
   {
    "duration": 8,
    "start_time": "2022-11-24T09:29:52.677Z"
   },
   {
    "duration": 50,
    "start_time": "2022-11-25T08:11:22.250Z"
   },
   {
    "duration": 1981,
    "start_time": "2022-11-25T08:11:39.851Z"
   },
   {
    "duration": 87,
    "start_time": "2022-11-25T08:11:41.835Z"
   },
   {
    "duration": 26,
    "start_time": "2022-11-25T08:11:41.924Z"
   },
   {
    "duration": 19,
    "start_time": "2022-11-25T08:11:41.952Z"
   },
   {
    "duration": 39,
    "start_time": "2022-11-25T08:11:41.975Z"
   },
   {
    "duration": 16,
    "start_time": "2022-11-25T08:11:42.016Z"
   },
   {
    "duration": 83,
    "start_time": "2022-11-25T08:11:42.035Z"
   },
   {
    "duration": 1343,
    "start_time": "2022-11-25T08:11:42.121Z"
   },
   {
    "duration": 191,
    "start_time": "2022-11-25T08:11:46.288Z"
   },
   {
    "duration": 9,
    "start_time": "2022-11-25T08:12:24.201Z"
   },
   {
    "duration": 10,
    "start_time": "2022-11-25T08:12:26.898Z"
   },
   {
    "duration": 19,
    "start_time": "2022-11-25T08:12:38.091Z"
   },
   {
    "duration": 13,
    "start_time": "2022-11-25T08:15:55.608Z"
   },
   {
    "duration": 21,
    "start_time": "2022-11-25T08:16:11.504Z"
   },
   {
    "duration": 6,
    "start_time": "2022-11-25T08:17:35.399Z"
   },
   {
    "duration": 12,
    "start_time": "2022-11-25T08:17:42.272Z"
   },
   {
    "duration": 5,
    "start_time": "2022-11-25T08:20:20.584Z"
   },
   {
    "duration": 6,
    "start_time": "2022-11-25T08:20:21.295Z"
   },
   {
    "duration": 5,
    "start_time": "2022-11-25T08:20:21.712Z"
   },
   {
    "duration": 48,
    "start_time": "2022-11-25T08:20:40.069Z"
   },
   {
    "duration": 5,
    "start_time": "2022-11-25T08:22:10.072Z"
   },
   {
    "duration": 3,
    "start_time": "2022-11-25T08:23:45.302Z"
   },
   {
    "duration": 29,
    "start_time": "2022-11-25T08:25:24.920Z"
   },
   {
    "duration": 5,
    "start_time": "2022-11-25T08:25:43.369Z"
   },
   {
    "duration": 36,
    "start_time": "2022-11-25T08:26:33.121Z"
   },
   {
    "duration": 31,
    "start_time": "2022-11-25T08:26:39.842Z"
   },
   {
    "duration": 1494,
    "start_time": "2022-11-25T08:26:46.510Z"
   },
   {
    "duration": 46,
    "start_time": "2022-11-25T08:26:48.007Z"
   },
   {
    "duration": 22,
    "start_time": "2022-11-25T08:26:48.055Z"
   },
   {
    "duration": 14,
    "start_time": "2022-11-25T08:26:48.079Z"
   },
   {
    "duration": 20,
    "start_time": "2022-11-25T08:26:48.095Z"
   },
   {
    "duration": 13,
    "start_time": "2022-11-25T08:26:48.116Z"
   },
   {
    "duration": 43,
    "start_time": "2022-11-25T08:26:48.131Z"
   },
   {
    "duration": 1232,
    "start_time": "2022-11-25T08:26:48.176Z"
   },
   {
    "duration": 5,
    "start_time": "2022-11-25T08:26:49.410Z"
   },
   {
    "duration": 19,
    "start_time": "2022-11-25T08:26:49.419Z"
   },
   {
    "duration": 6,
    "start_time": "2022-11-25T08:26:49.441Z"
   },
   {
    "duration": 16,
    "start_time": "2022-11-25T08:26:49.449Z"
   },
   {
    "duration": 5,
    "start_time": "2022-11-25T08:26:49.467Z"
   },
   {
    "duration": 15,
    "start_time": "2022-11-25T08:26:49.474Z"
   },
   {
    "duration": 23,
    "start_time": "2022-11-25T08:26:49.491Z"
   },
   {
    "duration": 10,
    "start_time": "2022-11-25T08:26:49.517Z"
   },
   {
    "duration": 8,
    "start_time": "2022-11-25T08:26:49.529Z"
   },
   {
    "duration": 9,
    "start_time": "2022-11-25T08:26:49.539Z"
   },
   {
    "duration": 34,
    "start_time": "2022-11-25T08:26:49.550Z"
   },
   {
    "duration": 26,
    "start_time": "2022-11-25T08:26:49.586Z"
   },
   {
    "duration": 373986,
    "start_time": "2022-11-25T08:29:44.476Z"
   },
   {
    "duration": 11,
    "start_time": "2022-11-25T08:35:58.464Z"
   },
   {
    "duration": 21612,
    "start_time": "2022-11-25T08:37:21.872Z"
   },
   {
    "duration": 74,
    "start_time": "2022-11-25T08:38:34.422Z"
   },
   {
    "duration": 4,
    "start_time": "2022-11-25T08:38:55.421Z"
   },
   {
    "duration": 75,
    "start_time": "2022-11-25T08:39:00.076Z"
   },
   {
    "duration": 1416,
    "start_time": "2022-11-25T08:39:17.398Z"
   },
   {
    "duration": 42,
    "start_time": "2022-11-25T08:39:18.816Z"
   },
   {
    "duration": 21,
    "start_time": "2022-11-25T08:39:18.860Z"
   },
   {
    "duration": 14,
    "start_time": "2022-11-25T08:39:18.883Z"
   },
   {
    "duration": 21,
    "start_time": "2022-11-25T08:39:18.900Z"
   },
   {
    "duration": 12,
    "start_time": "2022-11-25T08:39:18.922Z"
   },
   {
    "duration": 43,
    "start_time": "2022-11-25T08:39:18.936Z"
   },
   {
    "duration": 1091,
    "start_time": "2022-11-25T08:39:18.980Z"
   },
   {
    "duration": 4,
    "start_time": "2022-11-25T08:39:20.073Z"
   },
   {
    "duration": 26,
    "start_time": "2022-11-25T08:39:20.079Z"
   },
   {
    "duration": 14,
    "start_time": "2022-11-25T08:39:20.106Z"
   },
   {
    "duration": 14,
    "start_time": "2022-11-25T08:39:20.122Z"
   },
   {
    "duration": 5,
    "start_time": "2022-11-25T08:39:20.138Z"
   },
   {
    "duration": 15,
    "start_time": "2022-11-25T08:39:20.146Z"
   },
   {
    "duration": 11,
    "start_time": "2022-11-25T08:39:20.163Z"
   },
   {
    "duration": 16,
    "start_time": "2022-11-25T08:39:20.176Z"
   },
   {
    "duration": 28,
    "start_time": "2022-11-25T08:39:20.193Z"
   },
   {
    "duration": 16,
    "start_time": "2022-11-25T08:39:20.224Z"
   },
   {
    "duration": 48,
    "start_time": "2022-11-25T08:39:20.243Z"
   },
   {
    "duration": 5,
    "start_time": "2022-11-25T08:39:20.293Z"
   },
   {
    "duration": 188,
    "start_time": "2022-11-25T08:39:20.300Z"
   },
   {
    "duration": 9,
    "start_time": "2022-11-25T08:39:20.490Z"
   },
   {
    "duration": 88,
    "start_time": "2022-11-25T08:41:42.791Z"
   },
   {
    "duration": 83,
    "start_time": "2022-11-25T08:42:05.319Z"
   },
   {
    "duration": 18507,
    "start_time": "2022-11-25T08:42:22.687Z"
   },
   {
    "duration": 2184963,
    "start_time": "2022-11-25T08:42:42.455Z"
   },
   {
    "duration": 9,
    "start_time": "2022-11-25T09:19:56.700Z"
   },
   {
    "duration": 28,
    "start_time": "2022-11-25T09:20:12.340Z"
   },
   {
    "duration": 43,
    "start_time": "2022-11-25T09:20:16.451Z"
   },
   {
    "duration": 37,
    "start_time": "2022-11-25T09:21:42.691Z"
   },
   {
    "duration": 4,
    "start_time": "2022-11-25T09:21:53.715Z"
   },
   {
    "duration": 2585,
    "start_time": "2022-11-25T09:21:58.917Z"
   },
   {
    "duration": 6,
    "start_time": "2022-11-25T09:22:04.936Z"
   },
   {
    "duration": 14,
    "start_time": "2022-11-25T09:22:07.306Z"
   },
   {
    "duration": 309258,
    "start_time": "2022-11-25T09:22:35.238Z"
   },
   {
    "duration": 60,
    "start_time": "2022-11-25T09:31:15.433Z"
   },
   {
    "duration": 4,
    "start_time": "2022-11-25T09:32:07.449Z"
   },
   {
    "duration": 55,
    "start_time": "2022-11-25T09:32:13.393Z"
   },
   {
    "duration": 85970,
    "start_time": "2022-11-25T09:33:00.201Z"
   },
   {
    "duration": 327381,
    "start_time": "2022-11-25T09:34:26.986Z"
   },
   {
    "duration": 2491,
    "start_time": "2022-11-25T09:41:02.957Z"
   },
   {
    "duration": 7,
    "start_time": "2022-11-25T09:41:09.088Z"
   },
   {
    "duration": 2399,
    "start_time": "2022-11-25T09:42:08.416Z"
   },
   {
    "duration": 111145,
    "start_time": "2022-11-25T09:42:11.016Z"
   },
   {
    "duration": 76,
    "start_time": "2022-11-25T09:44:02.164Z"
   },
   {
    "duration": 62,
    "start_time": "2022-11-25T09:44:34.991Z"
   },
   {
    "duration": 2401,
    "start_time": "2022-11-25T09:44:40.592Z"
   },
   {
    "duration": 2416,
    "start_time": "2022-11-25T09:44:51.832Z"
   },
   {
    "duration": 2364,
    "start_time": "2022-11-25T09:45:13.302Z"
   },
   {
    "duration": 2525,
    "start_time": "2022-11-25T09:45:30.038Z"
   },
   {
    "duration": 327704,
    "start_time": "2022-11-25T10:31:15.921Z"
   },
   {
    "duration": 2334,
    "start_time": "2022-11-25T10:36:43.627Z"
   },
   {
    "duration": 4,
    "start_time": "2022-11-25T10:36:45.963Z"
   },
   {
    "duration": 4,
    "start_time": "2022-11-25T10:47:42.911Z"
   },
   {
    "duration": 11,
    "start_time": "2022-11-25T10:47:44.705Z"
   },
   {
    "duration": 3,
    "start_time": "2022-11-25T10:48:07.401Z"
   },
   {
    "duration": 7,
    "start_time": "2022-11-25T10:48:39.539Z"
   },
   {
    "duration": 1485,
    "start_time": "2022-11-25T10:49:24.122Z"
   },
   {
    "duration": 42,
    "start_time": "2022-11-25T10:49:25.609Z"
   },
   {
    "duration": 21,
    "start_time": "2022-11-25T10:49:25.653Z"
   },
   {
    "duration": 24,
    "start_time": "2022-11-25T10:49:25.675Z"
   },
   {
    "duration": 17,
    "start_time": "2022-11-25T10:49:25.702Z"
   },
   {
    "duration": 17,
    "start_time": "2022-11-25T10:49:25.721Z"
   },
   {
    "duration": 62,
    "start_time": "2022-11-25T10:49:25.740Z"
   },
   {
    "duration": 1180,
    "start_time": "2022-11-25T10:49:25.804Z"
   },
   {
    "duration": 4,
    "start_time": "2022-11-25T10:49:26.986Z"
   },
   {
    "duration": 19,
    "start_time": "2022-11-25T10:49:26.992Z"
   },
   {
    "duration": 11,
    "start_time": "2022-11-25T10:49:27.013Z"
   },
   {
    "duration": 19,
    "start_time": "2022-11-25T10:49:27.025Z"
   },
   {
    "duration": 11,
    "start_time": "2022-11-25T10:49:27.046Z"
   },
   {
    "duration": 23,
    "start_time": "2022-11-25T10:49:27.060Z"
   },
   {
    "duration": 4,
    "start_time": "2022-11-25T10:49:27.085Z"
   },
   {
    "duration": 15,
    "start_time": "2022-11-25T10:49:27.090Z"
   },
   {
    "duration": 7,
    "start_time": "2022-11-25T10:49:27.107Z"
   },
   {
    "duration": 5,
    "start_time": "2022-11-25T10:49:27.116Z"
   },
   {
    "duration": 34,
    "start_time": "2022-11-25T10:49:27.123Z"
   },
   {
    "duration": 5,
    "start_time": "2022-11-25T10:49:27.159Z"
   },
   {
    "duration": 26538,
    "start_time": "2022-11-25T10:49:27.166Z"
   },
   {
    "duration": 2406,
    "start_time": "2022-11-25T10:49:53.706Z"
   },
   {
    "duration": 6,
    "start_time": "2022-11-25T10:49:56.114Z"
   },
   {
    "duration": 6,
    "start_time": "2022-11-25T10:49:56.121Z"
   },
   {
    "duration": 23,
    "start_time": "2022-11-25T10:49:56.129Z"
   },
   {
    "duration": 6,
    "start_time": "2022-11-25T10:49:56.154Z"
   },
   {
    "duration": 2076,
    "start_time": "2022-11-25T10:49:56.162Z"
   },
   {
    "duration": 1372,
    "start_time": "2022-11-25T10:49:58.240Z"
   },
   {
    "duration": 1214,
    "start_time": "2022-11-25T10:49:59.614Z"
   },
   {
    "duration": 5,
    "start_time": "2022-11-25T10:51:16.272Z"
   },
   {
    "duration": 38,
    "start_time": "2022-11-25T10:51:18.575Z"
   },
   {
    "duration": 7,
    "start_time": "2022-11-25T10:51:19.169Z"
   },
   {
    "duration": 1514,
    "start_time": "2022-11-25T10:51:46.903Z"
   },
   {
    "duration": 42,
    "start_time": "2022-11-25T10:51:48.420Z"
   },
   {
    "duration": 21,
    "start_time": "2022-11-25T10:51:48.464Z"
   },
   {
    "duration": 13,
    "start_time": "2022-11-25T10:51:48.486Z"
   },
   {
    "duration": 17,
    "start_time": "2022-11-25T10:51:48.501Z"
   },
   {
    "duration": 11,
    "start_time": "2022-11-25T10:51:48.520Z"
   },
   {
    "duration": 51,
    "start_time": "2022-11-25T10:51:48.532Z"
   },
   {
    "duration": 1120,
    "start_time": "2022-11-25T10:51:48.584Z"
   },
   {
    "duration": 5,
    "start_time": "2022-11-25T10:51:49.705Z"
   },
   {
    "duration": 16,
    "start_time": "2022-11-25T10:51:49.712Z"
   },
   {
    "duration": 6,
    "start_time": "2022-11-25T10:51:49.730Z"
   },
   {
    "duration": 20,
    "start_time": "2022-11-25T10:51:49.738Z"
   },
   {
    "duration": 13,
    "start_time": "2022-11-25T10:51:49.759Z"
   },
   {
    "duration": 25,
    "start_time": "2022-11-25T10:51:49.775Z"
   },
   {
    "duration": 4,
    "start_time": "2022-11-25T10:51:49.802Z"
   },
   {
    "duration": 15,
    "start_time": "2022-11-25T10:51:49.812Z"
   },
   {
    "duration": 11,
    "start_time": "2022-11-25T10:51:49.829Z"
   },
   {
    "duration": 19,
    "start_time": "2022-11-25T10:51:49.842Z"
   },
   {
    "duration": 36,
    "start_time": "2022-11-25T10:51:49.863Z"
   },
   {
    "duration": 4,
    "start_time": "2022-11-25T10:51:49.901Z"
   },
   {
    "duration": 331987,
    "start_time": "2022-11-25T10:51:49.907Z"
   },
   {
    "duration": 2440,
    "start_time": "2022-11-25T10:57:21.896Z"
   },
   {
    "duration": 7,
    "start_time": "2022-11-25T10:57:24.337Z"
   },
   {
    "duration": 7,
    "start_time": "2022-11-25T10:57:24.345Z"
   },
   {
    "duration": 23,
    "start_time": "2022-11-25T10:57:24.354Z"
   },
   {
    "duration": 6,
    "start_time": "2022-11-25T10:57:24.379Z"
   },
   {
    "duration": 11,
    "start_time": "2022-11-25T10:57:24.387Z"
   },
   {
    "duration": 9,
    "start_time": "2022-11-25T10:57:24.412Z"
   },
   {
    "duration": 9,
    "start_time": "2022-11-25T10:57:24.423Z"
   },
   {
    "duration": 4,
    "start_time": "2022-11-25T11:07:01.629Z"
   },
   {
    "duration": 11,
    "start_time": "2022-11-25T11:07:02.213Z"
   },
   {
    "duration": 7,
    "start_time": "2022-11-25T11:07:02.656Z"
   },
   {
    "duration": 116,
    "start_time": "2022-11-25T11:07:11.748Z"
   },
   {
    "duration": 9,
    "start_time": "2022-11-25T11:07:12.198Z"
   },
   {
    "duration": 5,
    "start_time": "2022-11-25T11:07:32.795Z"
   },
   {
    "duration": 9,
    "start_time": "2022-11-25T11:07:33.329Z"
   },
   {
    "duration": 6,
    "start_time": "2022-11-25T11:07:33.717Z"
   },
   {
    "duration": 4,
    "start_time": "2022-11-25T11:07:37.845Z"
   },
   {
    "duration": 11,
    "start_time": "2022-11-25T11:07:38.229Z"
   },
   {
    "duration": 6,
    "start_time": "2022-11-25T11:07:38.533Z"
   },
   {
    "duration": 4,
    "start_time": "2022-11-25T11:07:42.917Z"
   },
   {
    "duration": 11,
    "start_time": "2022-11-25T11:07:43.340Z"
   },
   {
    "duration": 6,
    "start_time": "2022-11-25T11:07:43.685Z"
   },
   {
    "duration": 4,
    "start_time": "2022-11-25T11:07:49.285Z"
   },
   {
    "duration": 10,
    "start_time": "2022-11-25T11:07:49.621Z"
   },
   {
    "duration": 6,
    "start_time": "2022-11-25T11:07:50.004Z"
   },
   {
    "duration": 4,
    "start_time": "2022-11-25T11:07:55.083Z"
   },
   {
    "duration": 10,
    "start_time": "2022-11-25T11:07:55.437Z"
   },
   {
    "duration": 6,
    "start_time": "2022-11-25T11:07:55.861Z"
   },
   {
    "duration": 4,
    "start_time": "2022-11-25T11:08:00.790Z"
   },
   {
    "duration": 9,
    "start_time": "2022-11-25T11:08:01.214Z"
   },
   {
    "duration": 6,
    "start_time": "2022-11-25T11:08:01.615Z"
   },
   {
    "duration": 4,
    "start_time": "2022-11-25T11:08:06.845Z"
   },
   {
    "duration": 10,
    "start_time": "2022-11-25T11:08:07.270Z"
   },
   {
    "duration": 6,
    "start_time": "2022-11-25T11:08:07.667Z"
   },
   {
    "duration": 4,
    "start_time": "2022-11-25T11:08:13.741Z"
   },
   {
    "duration": 11,
    "start_time": "2022-11-25T11:08:14.052Z"
   },
   {
    "duration": 6,
    "start_time": "2022-11-25T11:08:14.413Z"
   },
   {
    "duration": 6,
    "start_time": "2022-11-25T11:08:20.596Z"
   },
   {
    "duration": 9,
    "start_time": "2022-11-25T11:08:20.936Z"
   },
   {
    "duration": 7,
    "start_time": "2022-11-25T11:08:21.261Z"
   },
   {
    "duration": 4,
    "start_time": "2022-11-25T11:08:25.303Z"
   },
   {
    "duration": 11,
    "start_time": "2022-11-25T11:08:25.541Z"
   },
   {
    "duration": 8,
    "start_time": "2022-11-25T11:08:25.861Z"
   },
   {
    "duration": 1512,
    "start_time": "2022-11-25T11:08:38.835Z"
   },
   {
    "duration": 42,
    "start_time": "2022-11-25T11:08:40.349Z"
   },
   {
    "duration": 22,
    "start_time": "2022-11-25T11:08:40.393Z"
   },
   {
    "duration": 22,
    "start_time": "2022-11-25T11:08:40.417Z"
   },
   {
    "duration": 22,
    "start_time": "2022-11-25T11:08:40.441Z"
   },
   {
    "duration": 26,
    "start_time": "2022-11-25T11:08:40.465Z"
   },
   {
    "duration": 61,
    "start_time": "2022-11-25T11:08:40.493Z"
   },
   {
    "duration": 1172,
    "start_time": "2022-11-25T11:08:40.556Z"
   },
   {
    "duration": 4,
    "start_time": "2022-11-25T11:08:41.730Z"
   },
   {
    "duration": 19,
    "start_time": "2022-11-25T11:08:41.737Z"
   },
   {
    "duration": 15,
    "start_time": "2022-11-25T11:08:41.758Z"
   },
   {
    "duration": 11,
    "start_time": "2022-11-25T11:08:41.775Z"
   },
   {
    "duration": 6,
    "start_time": "2022-11-25T11:08:41.788Z"
   },
   {
    "duration": 19,
    "start_time": "2022-11-25T11:08:41.795Z"
   },
   {
    "duration": 5,
    "start_time": "2022-11-25T11:08:41.815Z"
   },
   {
    "duration": 5,
    "start_time": "2022-11-25T11:08:41.822Z"
   },
   {
    "duration": 8,
    "start_time": "2022-11-25T11:08:41.830Z"
   },
   {
    "duration": 7,
    "start_time": "2022-11-25T11:08:41.840Z"
   },
   {
    "duration": 64,
    "start_time": "2022-11-25T11:08:41.849Z"
   },
   {
    "duration": 5,
    "start_time": "2022-11-25T11:08:41.915Z"
   },
   {
    "duration": 329092,
    "start_time": "2022-11-25T11:08:41.922Z"
   },
   {
    "duration": 2397,
    "start_time": "2022-11-25T11:14:11.016Z"
   },
   {
    "duration": 6,
    "start_time": "2022-11-25T11:14:13.415Z"
   },
   {
    "duration": 21,
    "start_time": "2022-11-25T11:14:13.423Z"
   },
   {
    "duration": 29,
    "start_time": "2022-11-25T11:14:13.446Z"
   },
   {
    "duration": 23,
    "start_time": "2022-11-25T11:14:13.477Z"
   },
   {
    "duration": 17,
    "start_time": "2022-11-25T11:14:13.502Z"
   },
   {
    "duration": 33,
    "start_time": "2022-11-25T11:14:13.522Z"
   },
   {
    "duration": 9,
    "start_time": "2022-11-25T11:14:13.557Z"
   },
   {
    "duration": 194,
    "start_time": "2022-11-25T11:22:54.753Z"
   },
   {
    "duration": 5,
    "start_time": "2022-11-25T11:23:29.400Z"
   },
   {
    "duration": 66,
    "start_time": "2022-11-25T11:23:29.408Z"
   },
   {
    "duration": 15,
    "start_time": "2022-11-25T11:23:29.476Z"
   },
   {
    "duration": 26,
    "start_time": "2022-11-25T11:23:29.493Z"
   },
   {
    "duration": 23,
    "start_time": "2022-11-25T11:23:29.522Z"
   },
   {
    "duration": 12,
    "start_time": "2022-11-25T11:23:29.548Z"
   },
   {
    "duration": 63,
    "start_time": "2022-11-25T11:23:29.562Z"
   },
   {
    "duration": 1080,
    "start_time": "2022-11-25T11:23:29.627Z"
   },
   {
    "duration": 7,
    "start_time": "2022-11-25T11:23:30.710Z"
   },
   {
    "duration": 50,
    "start_time": "2022-11-25T11:23:30.719Z"
   },
   {
    "duration": 30,
    "start_time": "2022-11-25T11:23:30.771Z"
   },
   {
    "duration": 24,
    "start_time": "2022-11-25T11:23:30.803Z"
   },
   {
    "duration": 19,
    "start_time": "2022-11-25T11:23:30.829Z"
   },
   {
    "duration": 27,
    "start_time": "2022-11-25T11:23:30.851Z"
   },
   {
    "duration": 13,
    "start_time": "2022-11-25T11:23:30.880Z"
   },
   {
    "duration": 48,
    "start_time": "2022-11-25T11:23:30.894Z"
   },
   {
    "duration": 20,
    "start_time": "2022-11-25T11:23:30.944Z"
   },
   {
    "duration": 26,
    "start_time": "2022-11-25T11:23:30.966Z"
   },
   {
    "duration": 67,
    "start_time": "2022-11-25T11:23:30.994Z"
   },
   {
    "duration": 5,
    "start_time": "2022-11-25T11:23:31.063Z"
   },
   {
    "duration": 339057,
    "start_time": "2022-11-25T11:23:31.069Z"
   },
   {
    "duration": 2284,
    "start_time": "2022-11-25T11:29:10.128Z"
   },
   {
    "duration": 6,
    "start_time": "2022-11-25T11:29:12.414Z"
   },
   {
    "duration": 4,
    "start_time": "2022-11-25T11:29:12.422Z"
   },
   {
    "duration": 14,
    "start_time": "2022-11-25T11:29:12.427Z"
   },
   {
    "duration": 5,
    "start_time": "2022-11-25T11:29:12.443Z"
   },
   {
    "duration": 6,
    "start_time": "2022-11-25T11:29:12.450Z"
   },
   {
    "duration": 11,
    "start_time": "2022-11-25T11:29:12.458Z"
   },
   {
    "duration": 6,
    "start_time": "2022-11-25T11:29:12.472Z"
   },
   {
    "duration": 66,
    "start_time": "2022-11-25T11:32:49.738Z"
   },
   {
    "duration": 62,
    "start_time": "2022-11-25T11:33:08.313Z"
   },
   {
    "duration": 322826,
    "start_time": "2022-11-25T11:34:31.414Z"
   },
   {
    "duration": 322173,
    "start_time": "2022-11-25T12:12:25.564Z"
   },
   {
    "duration": 323469,
    "start_time": "2022-11-25T12:18:29.212Z"
   },
   {
    "duration": 4,
    "start_time": "2022-11-25T12:26:39.662Z"
   },
   {
    "duration": 356943,
    "start_time": "2022-11-25T12:26:46.099Z"
   },
   {
    "duration": 4,
    "start_time": "2022-11-25T12:35:57.105Z"
   },
   {
    "duration": 339644,
    "start_time": "2022-11-25T12:36:04.753Z"
   },
   {
    "duration": 1469,
    "start_time": "2022-11-25T12:55:40.835Z"
   },
   {
    "duration": 42,
    "start_time": "2022-11-25T12:55:42.306Z"
   },
   {
    "duration": 22,
    "start_time": "2022-11-25T12:55:42.350Z"
   },
   {
    "duration": 14,
    "start_time": "2022-11-25T12:55:42.374Z"
   },
   {
    "duration": 23,
    "start_time": "2022-11-25T12:55:42.390Z"
   },
   {
    "duration": 13,
    "start_time": "2022-11-25T12:55:42.415Z"
   },
   {
    "duration": 42,
    "start_time": "2022-11-25T12:55:42.429Z"
   },
   {
    "duration": 1135,
    "start_time": "2022-11-25T12:55:42.473Z"
   },
   {
    "duration": 6,
    "start_time": "2022-11-25T12:55:43.609Z"
   },
   {
    "duration": 39,
    "start_time": "2022-11-25T12:55:43.618Z"
   },
   {
    "duration": 24,
    "start_time": "2022-11-25T12:55:43.659Z"
   },
   {
    "duration": 32,
    "start_time": "2022-11-25T12:55:43.685Z"
   },
   {
    "duration": 10,
    "start_time": "2022-11-25T12:55:43.719Z"
   },
   {
    "duration": 34,
    "start_time": "2022-11-25T12:55:43.731Z"
   },
   {
    "duration": 16,
    "start_time": "2022-11-25T12:55:43.767Z"
   },
   {
    "duration": 20,
    "start_time": "2022-11-25T12:55:43.785Z"
   },
   {
    "duration": 18,
    "start_time": "2022-11-25T12:55:43.808Z"
   },
   {
    "duration": 18,
    "start_time": "2022-11-25T12:55:43.828Z"
   },
   {
    "duration": 61,
    "start_time": "2022-11-25T12:55:43.848Z"
   },
   {
    "duration": 5,
    "start_time": "2022-11-25T12:55:43.912Z"
   },
   {
    "duration": 340750,
    "start_time": "2022-11-25T12:55:43.919Z"
   },
   {
    "duration": 2502,
    "start_time": "2022-11-25T13:01:24.671Z"
   },
   {
    "duration": 8,
    "start_time": "2022-11-25T13:01:27.176Z"
   },
   {
    "duration": 55,
    "start_time": "2022-11-25T13:01:27.186Z"
   },
   {
    "duration": 36,
    "start_time": "2022-11-25T13:01:27.243Z"
   },
   {
    "duration": 22,
    "start_time": "2022-11-25T13:01:27.281Z"
   },
   {
    "duration": 16,
    "start_time": "2022-11-25T13:01:27.305Z"
   },
   {
    "duration": 38,
    "start_time": "2022-11-25T13:01:27.325Z"
   },
   {
    "duration": 20,
    "start_time": "2022-11-25T13:01:27.365Z"
   },
   {
    "duration": 343313,
    "start_time": "2022-11-25T13:01:27.387Z"
   },
   {
    "duration": 424619,
    "start_time": "2022-11-25T13:07:10.701Z"
   },
   {
    "duration": 190255,
    "start_time": "2022-11-25T13:14:15.322Z"
   },
   {
    "duration": 2731,
    "start_time": "2022-11-25T13:17:25.579Z"
   },
   {
    "duration": 2766,
    "start_time": "2022-11-25T13:17:28.312Z"
   },
   {
    "duration": 2727,
    "start_time": "2022-11-25T13:17:31.079Z"
   },
   {
    "duration": 3272,
    "start_time": "2022-11-25T13:20:08.086Z"
   },
   {
    "duration": 1533,
    "start_time": "2022-11-25T13:20:15.737Z"
   },
   {
    "duration": 2461,
    "start_time": "2022-11-25T13:27:28.285Z"
   },
   {
    "duration": 1660,
    "start_time": "2022-11-25T13:33:11.052Z"
   },
   {
    "duration": 1653,
    "start_time": "2022-11-25T13:34:26.385Z"
   },
   {
    "duration": 130,
    "start_time": "2022-11-25T13:43:13.498Z"
   },
   {
    "duration": 425799,
    "start_time": "2022-11-25T13:43:26.664Z"
   },
   {
    "duration": 3,
    "start_time": "2022-11-25T13:56:27.907Z"
   },
   {
    "duration": 1064,
    "start_time": "2022-11-25T13:56:37.460Z"
   },
   {
    "duration": 1225,
    "start_time": "2022-11-25T13:56:57.745Z"
   },
   {
    "duration": 1208,
    "start_time": "2022-11-25T13:57:20.083Z"
   },
   {
    "duration": 1372,
    "start_time": "2022-11-25T13:58:37.871Z"
   },
   {
    "duration": 1526,
    "start_time": "2022-11-25T14:05:04.473Z"
   },
   {
    "duration": 48,
    "start_time": "2022-11-25T14:05:06.002Z"
   },
   {
    "duration": 24,
    "start_time": "2022-11-25T14:05:06.052Z"
   },
   {
    "duration": 21,
    "start_time": "2022-11-25T14:05:06.078Z"
   },
   {
    "duration": 29,
    "start_time": "2022-11-25T14:05:06.101Z"
   },
   {
    "duration": 13,
    "start_time": "2022-11-25T14:05:06.132Z"
   },
   {
    "duration": 48,
    "start_time": "2022-11-25T14:05:06.147Z"
   },
   {
    "duration": 1191,
    "start_time": "2022-11-25T14:05:06.197Z"
   },
   {
    "duration": 5,
    "start_time": "2022-11-25T14:05:07.390Z"
   },
   {
    "duration": 31,
    "start_time": "2022-11-25T14:05:07.397Z"
   },
   {
    "duration": 21,
    "start_time": "2022-11-25T14:05:07.431Z"
   },
   {
    "duration": 21,
    "start_time": "2022-11-25T14:05:07.454Z"
   },
   {
    "duration": 13,
    "start_time": "2022-11-25T14:05:07.477Z"
   },
   {
    "duration": 14,
    "start_time": "2022-11-25T14:05:07.493Z"
   },
   {
    "duration": 9,
    "start_time": "2022-11-25T14:05:07.509Z"
   },
   {
    "duration": 8,
    "start_time": "2022-11-25T14:05:07.520Z"
   },
   {
    "duration": 15,
    "start_time": "2022-11-25T14:05:07.530Z"
   },
   {
    "duration": 27,
    "start_time": "2022-11-25T14:05:07.547Z"
   },
   {
    "duration": 31,
    "start_time": "2022-11-25T14:05:07.576Z"
   },
   {
    "duration": 5,
    "start_time": "2022-11-25T14:05:07.609Z"
   },
   {
    "duration": 344211,
    "start_time": "2022-11-25T14:05:07.616Z"
   },
   {
    "duration": 2456,
    "start_time": "2022-11-25T14:10:51.829Z"
   },
   {
    "duration": 8,
    "start_time": "2022-11-25T14:10:54.287Z"
   },
   {
    "duration": 17,
    "start_time": "2022-11-25T14:10:54.297Z"
   },
   {
    "duration": 14,
    "start_time": "2022-11-25T14:10:54.316Z"
   },
   {
    "duration": 7,
    "start_time": "2022-11-25T14:10:54.332Z"
   },
   {
    "duration": 10,
    "start_time": "2022-11-25T14:10:54.341Z"
   },
   {
    "duration": 27,
    "start_time": "2022-11-25T14:10:54.353Z"
   },
   {
    "duration": 10,
    "start_time": "2022-11-25T14:10:54.382Z"
   },
   {
    "duration": 1414209,
    "start_time": "2022-11-25T14:10:54.394Z"
   },
   {
    "duration": 1798694,
    "start_time": "2022-11-25T14:34:28.604Z"
   },
   {
    "duration": 755697,
    "start_time": "2022-11-25T15:04:27.299Z"
   },
   {
    "duration": 5941,
    "start_time": "2022-11-25T15:17:02.997Z"
   },
   {
    "duration": 6927,
    "start_time": "2022-11-25T15:17:08.940Z"
   },
   {
    "duration": 3017,
    "start_time": "2022-11-25T15:17:15.869Z"
   },
   {
    "duration": 3,
    "start_time": "2022-11-25T15:17:18.888Z"
   },
   {
    "duration": 1065,
    "start_time": "2022-11-25T15:17:18.892Z"
   },
   {
    "duration": 1217,
    "start_time": "2022-11-25T16:01:21.967Z"
   },
   {
    "duration": 1397,
    "start_time": "2022-11-25T16:01:29.699Z"
   },
   {
    "duration": 237,
    "start_time": "2022-11-25T16:02:17.177Z"
   },
   {
    "duration": 243,
    "start_time": "2022-11-25T16:02:25.217Z"
   },
   {
    "duration": 1468,
    "start_time": "2022-11-25T16:02:33.009Z"
   },
   {
    "duration": 1532,
    "start_time": "2022-11-25T16:02:41.919Z"
   },
   {
    "duration": 3,
    "start_time": "2022-11-25T16:03:05.836Z"
   },
   {
    "duration": 5,
    "start_time": "2022-11-25T16:03:15.311Z"
   },
   {
    "duration": 2331886,
    "start_time": "2022-11-25T18:33:59.160Z"
   },
   {
    "duration": 1706,
    "start_time": "2022-11-25T19:12:51.050Z"
   },
   {
    "duration": 5,
    "start_time": "2022-11-25T20:15:50.341Z"
   },
   {
    "duration": 967,
    "start_time": "2022-11-25T20:15:53.279Z"
   },
   {
    "duration": 1091,
    "start_time": "2022-11-25T20:16:16.833Z"
   },
   {
    "duration": 194,
    "start_time": "2022-11-25T20:16:37.651Z"
   },
   {
    "duration": 188,
    "start_time": "2022-11-25T20:16:50.344Z"
   },
   {
    "duration": 1107,
    "start_time": "2022-11-25T20:16:55.367Z"
   },
   {
    "duration": 1287,
    "start_time": "2022-11-25T20:17:06.024Z"
   },
   {
    "duration": 17,
    "start_time": "2022-11-25T20:19:10.080Z"
   },
   {
    "duration": 7,
    "start_time": "2022-11-25T20:19:10.891Z"
   },
   {
    "duration": 1309,
    "start_time": "2022-11-25T20:20:20.646Z"
   },
   {
    "duration": 43,
    "start_time": "2022-11-25T20:20:21.957Z"
   },
   {
    "duration": 19,
    "start_time": "2022-11-25T20:20:22.002Z"
   },
   {
    "duration": 16,
    "start_time": "2022-11-25T20:20:22.023Z"
   },
   {
    "duration": 23,
    "start_time": "2022-11-25T20:20:22.041Z"
   },
   {
    "duration": 15,
    "start_time": "2022-11-25T20:20:22.065Z"
   },
   {
    "duration": 54,
    "start_time": "2022-11-25T20:20:22.081Z"
   },
   {
    "duration": 1063,
    "start_time": "2022-11-25T20:20:22.137Z"
   },
   {
    "duration": 5,
    "start_time": "2022-11-25T20:20:23.202Z"
   },
   {
    "duration": 20,
    "start_time": "2022-11-25T20:20:23.209Z"
   },
   {
    "duration": 7,
    "start_time": "2022-11-25T20:20:23.231Z"
   },
   {
    "duration": 12,
    "start_time": "2022-11-25T20:20:23.239Z"
   },
   {
    "duration": 10,
    "start_time": "2022-11-25T20:20:23.253Z"
   },
   {
    "duration": 11,
    "start_time": "2022-11-25T20:20:23.266Z"
   },
   {
    "duration": 8,
    "start_time": "2022-11-25T20:20:23.278Z"
   },
   {
    "duration": 8,
    "start_time": "2022-11-25T20:20:23.288Z"
   },
   {
    "duration": 16,
    "start_time": "2022-11-25T20:20:23.297Z"
   },
   {
    "duration": 5,
    "start_time": "2022-11-25T20:20:23.315Z"
   },
   {
    "duration": 32,
    "start_time": "2022-11-25T20:20:23.322Z"
   },
   {
    "duration": 4,
    "start_time": "2022-11-25T20:20:23.355Z"
   },
   {
    "duration": 535533,
    "start_time": "2022-11-25T20:20:23.361Z"
   },
   {
    "duration": 2252,
    "start_time": "2022-11-25T20:29:18.896Z"
   },
   {
    "duration": 6,
    "start_time": "2022-11-25T20:29:21.149Z"
   },
   {
    "duration": 8,
    "start_time": "2022-11-25T20:29:21.156Z"
   },
   {
    "duration": 1388,
    "start_time": "2022-11-25T20:29:40.782Z"
   },
   {
    "duration": 42,
    "start_time": "2022-11-25T20:29:42.172Z"
   },
   {
    "duration": 18,
    "start_time": "2022-11-25T20:29:42.216Z"
   },
   {
    "duration": 13,
    "start_time": "2022-11-25T20:29:42.235Z"
   },
   {
    "duration": 24,
    "start_time": "2022-11-25T20:29:42.250Z"
   },
   {
    "duration": 12,
    "start_time": "2022-11-25T20:29:42.276Z"
   },
   {
    "duration": 61,
    "start_time": "2022-11-25T20:29:42.290Z"
   },
   {
    "duration": 1003,
    "start_time": "2022-11-25T20:29:42.353Z"
   },
   {
    "duration": 5,
    "start_time": "2022-11-25T20:29:43.358Z"
   },
   {
    "duration": 19,
    "start_time": "2022-11-25T20:29:43.365Z"
   },
   {
    "duration": 7,
    "start_time": "2022-11-25T20:29:43.385Z"
   },
   {
    "duration": 17,
    "start_time": "2022-11-25T20:29:43.393Z"
   },
   {
    "duration": 7,
    "start_time": "2022-11-25T20:29:43.412Z"
   },
   {
    "duration": 16,
    "start_time": "2022-11-25T20:29:43.421Z"
   },
   {
    "duration": 4,
    "start_time": "2022-11-25T20:29:43.439Z"
   },
   {
    "duration": 10,
    "start_time": "2022-11-25T20:29:43.444Z"
   },
   {
    "duration": 8,
    "start_time": "2022-11-25T20:29:43.455Z"
   },
   {
    "duration": 6,
    "start_time": "2022-11-25T20:29:43.464Z"
   },
   {
    "duration": 44,
    "start_time": "2022-11-25T20:29:43.472Z"
   },
   {
    "duration": 5,
    "start_time": "2022-11-25T20:29:46.182Z"
   },
   {
    "duration": 4,
    "start_time": "2022-11-25T20:29:51.091Z"
   },
   {
    "duration": 10,
    "start_time": "2022-11-25T20:29:53.069Z"
   },
   {
    "duration": 7,
    "start_time": "2022-11-25T20:29:53.763Z"
   },
   {
    "duration": 4,
    "start_time": "2022-11-25T20:29:55.835Z"
   },
   {
    "duration": 11,
    "start_time": "2022-11-25T20:29:56.511Z"
   },
   {
    "duration": 6,
    "start_time": "2022-11-25T20:29:57.137Z"
   },
   {
    "duration": 1342,
    "start_time": "2022-11-25T20:30:10.428Z"
   },
   {
    "duration": 43,
    "start_time": "2022-11-25T20:30:11.771Z"
   },
   {
    "duration": 20,
    "start_time": "2022-11-25T20:30:11.815Z"
   },
   {
    "duration": 12,
    "start_time": "2022-11-25T20:30:11.836Z"
   },
   {
    "duration": 16,
    "start_time": "2022-11-25T20:30:11.851Z"
   },
   {
    "duration": 11,
    "start_time": "2022-11-25T20:30:11.868Z"
   },
   {
    "duration": 70,
    "start_time": "2022-11-25T20:30:11.880Z"
   },
   {
    "duration": 1099,
    "start_time": "2022-11-25T20:30:11.952Z"
   },
   {
    "duration": 4,
    "start_time": "2022-11-25T20:30:13.053Z"
   },
   {
    "duration": 20,
    "start_time": "2022-11-25T20:30:13.059Z"
   },
   {
    "duration": 5,
    "start_time": "2022-11-25T20:30:13.081Z"
   },
   {
    "duration": 15,
    "start_time": "2022-11-25T20:30:13.088Z"
   },
   {
    "duration": 6,
    "start_time": "2022-11-25T20:30:13.105Z"
   },
   {
    "duration": 12,
    "start_time": "2022-11-25T20:30:13.115Z"
   },
   {
    "duration": 5,
    "start_time": "2022-11-25T20:30:13.128Z"
   },
   {
    "duration": 5,
    "start_time": "2022-11-25T20:30:13.135Z"
   },
   {
    "duration": 5,
    "start_time": "2022-11-25T20:30:13.142Z"
   },
   {
    "duration": 4,
    "start_time": "2022-11-25T20:30:13.149Z"
   },
   {
    "duration": 61,
    "start_time": "2022-11-25T20:30:13.155Z"
   },
   {
    "duration": 4,
    "start_time": "2022-11-25T20:30:13.218Z"
   },
   {
    "duration": 310361,
    "start_time": "2022-11-25T20:30:13.224Z"
   },
   {
    "duration": 2249,
    "start_time": "2022-11-25T20:35:23.587Z"
   },
   {
    "duration": 7,
    "start_time": "2022-11-25T20:35:25.839Z"
   },
   {
    "duration": 4,
    "start_time": "2022-11-25T20:35:25.848Z"
   },
   {
    "duration": 15,
    "start_time": "2022-11-25T20:35:25.854Z"
   },
   {
    "duration": 6,
    "start_time": "2022-11-25T20:35:25.870Z"
   },
   {
    "duration": 5,
    "start_time": "2022-11-25T20:35:25.877Z"
   },
   {
    "duration": 35,
    "start_time": "2022-11-25T20:35:25.883Z"
   },
   {
    "duration": 5,
    "start_time": "2022-11-25T20:35:25.920Z"
   },
   {
    "duration": 313142,
    "start_time": "2022-11-25T20:35:25.927Z"
   },
   {
    "duration": 422183,
    "start_time": "2022-11-25T20:40:39.070Z"
   },
   {
    "duration": 172911,
    "start_time": "2022-11-25T20:47:41.254Z"
   },
   {
    "duration": 2463,
    "start_time": "2022-11-25T20:50:34.167Z"
   },
   {
    "duration": 3096,
    "start_time": "2022-11-25T20:50:36.632Z"
   },
   {
    "duration": 1286,
    "start_time": "2022-11-25T20:50:39.730Z"
   },
   {
    "duration": 8,
    "start_time": "2022-11-25T20:50:41.017Z"
   },
   {
    "duration": 941,
    "start_time": "2022-11-25T20:50:41.026Z"
   },
   {
    "duration": 52,
    "start_time": "2022-11-28T11:09:04.198Z"
   },
   {
    "duration": 1561,
    "start_time": "2022-11-28T11:12:42.704Z"
   },
   {
    "duration": 161,
    "start_time": "2022-11-28T11:12:44.267Z"
   },
   {
    "duration": 18,
    "start_time": "2022-11-28T11:12:44.430Z"
   },
   {
    "duration": 21,
    "start_time": "2022-11-28T11:12:44.449Z"
   },
   {
    "duration": 15,
    "start_time": "2022-11-28T11:12:44.472Z"
   },
   {
    "duration": 11,
    "start_time": "2022-11-28T11:12:44.488Z"
   },
   {
    "duration": 38,
    "start_time": "2022-11-28T11:12:44.500Z"
   },
   {
    "duration": 1057,
    "start_time": "2022-11-28T11:12:44.540Z"
   },
   {
    "duration": 4,
    "start_time": "2022-11-28T11:12:45.599Z"
   },
   {
    "duration": 14,
    "start_time": "2022-11-28T11:12:45.605Z"
   },
   {
    "duration": 9,
    "start_time": "2022-11-28T11:12:45.621Z"
   },
   {
    "duration": 21,
    "start_time": "2022-11-28T11:12:45.631Z"
   },
   {
    "duration": 14,
    "start_time": "2022-11-28T11:12:45.653Z"
   },
   {
    "duration": 14,
    "start_time": "2022-11-28T11:12:45.669Z"
   },
   {
    "duration": 3,
    "start_time": "2022-11-28T11:12:45.685Z"
   },
   {
    "duration": 5,
    "start_time": "2022-11-28T11:12:45.690Z"
   },
   {
    "duration": 3,
    "start_time": "2022-11-28T11:12:45.704Z"
   },
   {
    "duration": 6,
    "start_time": "2022-11-28T11:12:45.709Z"
   },
   {
    "duration": 25,
    "start_time": "2022-11-28T11:12:45.717Z"
   },
   {
    "duration": 3,
    "start_time": "2022-11-28T11:12:45.744Z"
   },
   {
    "duration": 317592,
    "start_time": "2022-11-28T11:12:45.748Z"
   },
   {
    "duration": 2858,
    "start_time": "2022-11-28T11:18:03.342Z"
   },
   {
    "duration": 7,
    "start_time": "2022-11-28T11:18:06.205Z"
   },
   {
    "duration": 7,
    "start_time": "2022-11-28T11:18:06.213Z"
   },
   {
    "duration": 14,
    "start_time": "2022-11-28T11:18:06.222Z"
   },
   {
    "duration": 7,
    "start_time": "2022-11-28T11:18:06.238Z"
   },
   {
    "duration": 6,
    "start_time": "2022-11-28T11:18:06.247Z"
   },
   {
    "duration": 12,
    "start_time": "2022-11-28T11:18:06.254Z"
   },
   {
    "duration": 6,
    "start_time": "2022-11-28T11:18:06.268Z"
   },
   {
    "duration": 281561,
    "start_time": "2022-11-28T11:18:06.304Z"
   },
   {
    "duration": 388523,
    "start_time": "2022-11-28T11:22:47.866Z"
   },
   {
    "duration": 162432,
    "start_time": "2022-11-28T11:29:16.391Z"
   },
   {
    "duration": 3416,
    "start_time": "2022-11-28T11:31:58.825Z"
   },
   {
    "duration": 3990,
    "start_time": "2022-11-28T11:32:02.243Z"
   },
   {
    "duration": 1705,
    "start_time": "2022-11-28T11:32:06.234Z"
   },
   {
    "duration": 5,
    "start_time": "2022-11-28T11:32:07.940Z"
   },
   {
    "duration": 516,
    "start_time": "2022-11-28T11:32:07.947Z"
   },
   {
    "duration": 433,
    "start_time": "2022-11-28T11:39:30.807Z"
   },
   {
    "duration": 1350,
    "start_time": "2022-11-28T11:39:45.197Z"
   },
   {
    "duration": 423,
    "start_time": "2022-11-28T11:39:57.481Z"
   },
   {
    "duration": 391,
    "start_time": "2022-11-28T11:40:11.983Z"
   },
   {
    "duration": 154,
    "start_time": "2022-11-28T11:40:56.235Z"
   },
   {
    "duration": 138,
    "start_time": "2022-11-28T11:41:51.397Z"
   },
   {
    "duration": 12,
    "start_time": "2022-11-28T11:41:58.149Z"
   },
   {
    "duration": 175,
    "start_time": "2022-11-28T11:42:03.200Z"
   },
   {
    "duration": 152,
    "start_time": "2022-11-28T11:42:09.572Z"
   },
   {
    "duration": 1533,
    "start_time": "2022-11-28T11:48:56.938Z"
   },
   {
    "duration": 0,
    "start_time": "2022-11-28T11:48:58.473Z"
   },
   {
    "duration": 0,
    "start_time": "2022-11-28T11:48:58.474Z"
   },
   {
    "duration": 0,
    "start_time": "2022-11-28T11:48:58.476Z"
   },
   {
    "duration": 0,
    "start_time": "2022-11-28T11:48:58.478Z"
   },
   {
    "duration": 0,
    "start_time": "2022-11-28T11:48:58.479Z"
   },
   {
    "duration": 0,
    "start_time": "2022-11-28T11:48:58.481Z"
   },
   {
    "duration": 0,
    "start_time": "2022-11-28T11:48:58.482Z"
   },
   {
    "duration": 0,
    "start_time": "2022-11-28T11:48:58.484Z"
   },
   {
    "duration": 0,
    "start_time": "2022-11-28T11:48:58.485Z"
   },
   {
    "duration": 0,
    "start_time": "2022-11-28T11:48:58.486Z"
   },
   {
    "duration": 0,
    "start_time": "2022-11-28T11:48:58.505Z"
   },
   {
    "duration": 0,
    "start_time": "2022-11-28T11:48:58.505Z"
   },
   {
    "duration": 0,
    "start_time": "2022-11-28T11:48:58.506Z"
   },
   {
    "duration": 0,
    "start_time": "2022-11-28T11:48:58.507Z"
   },
   {
    "duration": 0,
    "start_time": "2022-11-28T11:48:58.509Z"
   },
   {
    "duration": 0,
    "start_time": "2022-11-28T11:48:58.510Z"
   },
   {
    "duration": 0,
    "start_time": "2022-11-28T11:48:58.511Z"
   },
   {
    "duration": 0,
    "start_time": "2022-11-28T11:48:58.512Z"
   },
   {
    "duration": 0,
    "start_time": "2022-11-28T11:48:58.513Z"
   },
   {
    "duration": 0,
    "start_time": "2022-11-28T11:48:58.514Z"
   },
   {
    "duration": 0,
    "start_time": "2022-11-28T11:48:58.515Z"
   },
   {
    "duration": 0,
    "start_time": "2022-11-28T11:48:58.516Z"
   },
   {
    "duration": 0,
    "start_time": "2022-11-28T11:48:58.517Z"
   },
   {
    "duration": 0,
    "start_time": "2022-11-28T11:48:58.518Z"
   },
   {
    "duration": 0,
    "start_time": "2022-11-28T11:48:58.519Z"
   },
   {
    "duration": 0,
    "start_time": "2022-11-28T11:48:58.520Z"
   },
   {
    "duration": 0,
    "start_time": "2022-11-28T11:48:58.521Z"
   },
   {
    "duration": 0,
    "start_time": "2022-11-28T11:48:58.522Z"
   },
   {
    "duration": 0,
    "start_time": "2022-11-28T11:48:58.523Z"
   },
   {
    "duration": 0,
    "start_time": "2022-11-28T11:48:58.524Z"
   },
   {
    "duration": 0,
    "start_time": "2022-11-28T11:48:58.525Z"
   },
   {
    "duration": 0,
    "start_time": "2022-11-28T11:48:58.526Z"
   },
   {
    "duration": 0,
    "start_time": "2022-11-28T11:48:58.527Z"
   },
   {
    "duration": 0,
    "start_time": "2022-11-28T11:48:58.528Z"
   },
   {
    "duration": 0,
    "start_time": "2022-11-28T11:48:58.529Z"
   },
   {
    "duration": 0,
    "start_time": "2022-11-28T11:48:58.530Z"
   },
   {
    "duration": 0,
    "start_time": "2022-11-28T11:48:58.531Z"
   },
   {
    "duration": 1411,
    "start_time": "2022-11-28T11:53:19.526Z"
   },
   {
    "duration": 42,
    "start_time": "2022-11-28T11:53:20.938Z"
   },
   {
    "duration": 17,
    "start_time": "2022-11-28T11:53:20.982Z"
   },
   {
    "duration": 19,
    "start_time": "2022-11-28T11:53:21.001Z"
   },
   {
    "duration": 24,
    "start_time": "2022-11-28T11:53:21.022Z"
   },
   {
    "duration": 21,
    "start_time": "2022-11-28T11:53:21.048Z"
   },
   {
    "duration": 52,
    "start_time": "2022-11-28T11:53:21.071Z"
   },
   {
    "duration": 976,
    "start_time": "2022-11-28T11:53:21.125Z"
   },
   {
    "duration": 4,
    "start_time": "2022-11-28T11:53:22.103Z"
   },
   {
    "duration": 46,
    "start_time": "2022-11-28T11:53:22.109Z"
   },
   {
    "duration": 41,
    "start_time": "2022-11-28T11:53:22.157Z"
   },
   {
    "duration": 1346,
    "start_time": "2022-11-28T11:53:22.199Z"
   },
   {
    "duration": 0,
    "start_time": "2022-11-28T11:53:23.549Z"
   },
   {
    "duration": 0,
    "start_time": "2022-11-28T11:53:23.550Z"
   },
   {
    "duration": 0,
    "start_time": "2022-11-28T11:53:23.551Z"
   },
   {
    "duration": 0,
    "start_time": "2022-11-28T11:53:23.552Z"
   },
   {
    "duration": 0,
    "start_time": "2022-11-28T11:53:23.554Z"
   },
   {
    "duration": 0,
    "start_time": "2022-11-28T11:53:23.555Z"
   },
   {
    "duration": 1,
    "start_time": "2022-11-28T11:53:23.556Z"
   },
   {
    "duration": 0,
    "start_time": "2022-11-28T11:53:23.558Z"
   },
   {
    "duration": 0,
    "start_time": "2022-11-28T11:53:23.559Z"
   },
   {
    "duration": 0,
    "start_time": "2022-11-28T11:53:23.561Z"
   },
   {
    "duration": 0,
    "start_time": "2022-11-28T11:53:23.562Z"
   },
   {
    "duration": 0,
    "start_time": "2022-11-28T11:53:23.564Z"
   },
   {
    "duration": 0,
    "start_time": "2022-11-28T11:53:23.565Z"
   },
   {
    "duration": 0,
    "start_time": "2022-11-28T11:53:23.566Z"
   },
   {
    "duration": 0,
    "start_time": "2022-11-28T11:53:23.568Z"
   },
   {
    "duration": 0,
    "start_time": "2022-11-28T11:53:23.570Z"
   },
   {
    "duration": 0,
    "start_time": "2022-11-28T11:53:23.571Z"
   },
   {
    "duration": 0,
    "start_time": "2022-11-28T11:53:23.572Z"
   },
   {
    "duration": 0,
    "start_time": "2022-11-28T11:53:23.574Z"
   },
   {
    "duration": 0,
    "start_time": "2022-11-28T11:53:23.575Z"
   },
   {
    "duration": 0,
    "start_time": "2022-11-28T11:53:23.576Z"
   },
   {
    "duration": 0,
    "start_time": "2022-11-28T11:53:23.577Z"
   },
   {
    "duration": 0,
    "start_time": "2022-11-28T11:53:23.578Z"
   },
   {
    "duration": 0,
    "start_time": "2022-11-28T11:53:23.579Z"
   },
   {
    "duration": 0,
    "start_time": "2022-11-28T11:53:23.581Z"
   },
   {
    "duration": 1358,
    "start_time": "2022-11-28T11:55:29.152Z"
   },
   {
    "duration": 42,
    "start_time": "2022-11-28T11:55:30.512Z"
   },
   {
    "duration": 17,
    "start_time": "2022-11-28T11:55:30.555Z"
   },
   {
    "duration": 19,
    "start_time": "2022-11-28T11:55:30.574Z"
   },
   {
    "duration": 38,
    "start_time": "2022-11-28T11:55:30.595Z"
   },
   {
    "duration": 13,
    "start_time": "2022-11-28T11:55:30.635Z"
   },
   {
    "duration": 54,
    "start_time": "2022-11-28T11:55:30.650Z"
   },
   {
    "duration": 1028,
    "start_time": "2022-11-28T11:55:30.706Z"
   },
   {
    "duration": 4,
    "start_time": "2022-11-28T11:55:31.736Z"
   },
   {
    "duration": 18,
    "start_time": "2022-11-28T11:55:31.741Z"
   },
   {
    "duration": 18,
    "start_time": "2022-11-28T11:55:31.761Z"
   },
   {
    "duration": 14,
    "start_time": "2022-11-28T11:55:31.781Z"
   },
   {
    "duration": 26,
    "start_time": "2022-11-28T11:55:31.797Z"
   },
   {
    "duration": 16,
    "start_time": "2022-11-28T11:55:31.826Z"
   },
   {
    "duration": 3,
    "start_time": "2022-11-28T11:55:31.844Z"
   },
   {
    "duration": 10,
    "start_time": "2022-11-28T11:55:31.849Z"
   },
   {
    "duration": 12,
    "start_time": "2022-11-28T11:55:31.860Z"
   },
   {
    "duration": 12,
    "start_time": "2022-11-28T11:55:31.874Z"
   },
   {
    "duration": 47,
    "start_time": "2022-11-28T11:55:31.887Z"
   },
   {
    "duration": 4,
    "start_time": "2022-11-28T11:55:31.935Z"
   },
   {
    "duration": 322651,
    "start_time": "2022-11-28T11:55:31.941Z"
   },
   {
    "duration": 2857,
    "start_time": "2022-11-28T12:00:54.594Z"
   },
   {
    "duration": 8,
    "start_time": "2022-11-28T12:00:57.453Z"
   },
   {
    "duration": 24,
    "start_time": "2022-11-28T12:00:57.463Z"
   },
   {
    "duration": 25,
    "start_time": "2022-11-28T12:00:57.489Z"
   },
   {
    "duration": 15,
    "start_time": "2022-11-28T12:00:57.516Z"
   },
   {
    "duration": 26,
    "start_time": "2022-11-28T12:00:57.534Z"
   },
   {
    "duration": 43,
    "start_time": "2022-11-28T12:00:57.562Z"
   },
   {
    "duration": 27,
    "start_time": "2022-11-28T12:00:57.607Z"
   },
   {
    "duration": 287345,
    "start_time": "2022-11-28T12:00:57.635Z"
   },
   {
    "duration": 383134,
    "start_time": "2022-11-28T12:05:44.982Z"
   },
   {
    "duration": 157646,
    "start_time": "2022-11-28T12:12:08.118Z"
   },
   {
    "duration": 3192,
    "start_time": "2022-11-28T12:14:45.766Z"
   },
   {
    "duration": 3930,
    "start_time": "2022-11-28T12:14:48.960Z"
   },
   {
    "duration": 1583,
    "start_time": "2022-11-28T12:14:52.891Z"
   },
   {
    "duration": 5,
    "start_time": "2022-11-28T12:14:54.476Z"
   },
   {
    "duration": 237,
    "start_time": "2022-11-28T12:14:54.482Z"
   },
   {
    "duration": 194,
    "start_time": "2022-11-28T12:15:13.899Z"
   },
   {
    "duration": 207,
    "start_time": "2022-11-28T12:15:35.631Z"
   },
   {
    "duration": 229,
    "start_time": "2022-11-28T12:15:51.335Z"
   },
   {
    "duration": 247,
    "start_time": "2022-11-28T12:15:58.490Z"
   },
   {
    "duration": 138,
    "start_time": "2022-11-28T12:16:14.920Z"
   },
   {
    "duration": 133,
    "start_time": "2022-11-28T12:16:18.672Z"
   },
   {
    "duration": 5,
    "start_time": "2022-11-28T12:17:14.248Z"
   },
   {
    "duration": 129,
    "start_time": "2022-11-28T12:17:23.092Z"
   },
   {
    "duration": 11,
    "start_time": "2022-11-28T12:19:46.537Z"
   },
   {
    "duration": 10,
    "start_time": "2022-11-28T12:20:01.259Z"
   },
   {
    "duration": 11,
    "start_time": "2022-11-28T12:20:47.491Z"
   },
   {
    "duration": 12,
    "start_time": "2022-11-28T12:20:48.568Z"
   },
   {
    "duration": 1336,
    "start_time": "2022-11-28T12:21:06.146Z"
   },
   {
    "duration": 46,
    "start_time": "2022-11-28T12:21:07.485Z"
   },
   {
    "duration": 24,
    "start_time": "2022-11-28T12:21:07.533Z"
   },
   {
    "duration": 20,
    "start_time": "2022-11-28T12:21:07.560Z"
   },
   {
    "duration": 30,
    "start_time": "2022-11-28T12:21:07.582Z"
   },
   {
    "duration": 11,
    "start_time": "2022-11-28T12:21:07.614Z"
   },
   {
    "duration": 39,
    "start_time": "2022-11-28T12:21:07.626Z"
   },
   {
    "duration": 1094,
    "start_time": "2022-11-28T12:21:07.667Z"
   },
   {
    "duration": 5,
    "start_time": "2022-11-28T12:21:08.763Z"
   },
   {
    "duration": 16,
    "start_time": "2022-11-28T12:21:08.770Z"
   },
   {
    "duration": 6,
    "start_time": "2022-11-28T12:21:08.787Z"
   },
   {
    "duration": 18,
    "start_time": "2022-11-28T12:21:08.795Z"
   },
   {
    "duration": 18,
    "start_time": "2022-11-28T12:21:08.815Z"
   },
   {
    "duration": 5,
    "start_time": "2022-11-28T12:21:08.835Z"
   },
   {
    "duration": 20,
    "start_time": "2022-11-28T12:21:08.842Z"
   },
   {
    "duration": 22,
    "start_time": "2022-11-28T12:21:08.864Z"
   },
   {
    "duration": 5,
    "start_time": "2022-11-28T12:21:08.888Z"
   },
   {
    "duration": 5,
    "start_time": "2022-11-28T12:21:08.895Z"
   },
   {
    "duration": 6,
    "start_time": "2022-11-28T12:21:08.902Z"
   },
   {
    "duration": 34,
    "start_time": "2022-11-28T12:21:08.909Z"
   },
   {
    "duration": 4,
    "start_time": "2022-11-28T12:21:08.944Z"
   },
   {
    "duration": 297981,
    "start_time": "2022-11-28T12:21:08.949Z"
   },
   {
    "duration": 2984,
    "start_time": "2022-11-28T12:26:06.932Z"
   },
   {
    "duration": 7,
    "start_time": "2022-11-28T12:26:09.917Z"
   },
   {
    "duration": 4,
    "start_time": "2022-11-28T12:26:09.926Z"
   },
   {
    "duration": 12,
    "start_time": "2022-11-28T12:26:09.932Z"
   },
   {
    "duration": 5,
    "start_time": "2022-11-28T12:26:09.946Z"
   },
   {
    "duration": 4,
    "start_time": "2022-11-28T12:26:09.954Z"
   },
   {
    "duration": 17,
    "start_time": "2022-11-28T12:26:09.959Z"
   },
   {
    "duration": 29,
    "start_time": "2022-11-28T12:26:09.977Z"
   },
   {
    "duration": 264384,
    "start_time": "2022-11-28T12:26:10.008Z"
   },
   {
    "duration": 358283,
    "start_time": "2022-11-28T12:30:34.393Z"
   },
   {
    "duration": 152366,
    "start_time": "2022-11-28T12:36:32.678Z"
   },
   {
    "duration": 3208,
    "start_time": "2022-11-28T12:39:05.045Z"
   },
   {
    "duration": 4057,
    "start_time": "2022-11-28T12:39:08.256Z"
   },
   {
    "duration": 1606,
    "start_time": "2022-11-28T12:39:12.315Z"
   },
   {
    "duration": 4,
    "start_time": "2022-11-28T12:39:13.923Z"
   },
   {
    "duration": 239,
    "start_time": "2022-11-28T12:39:13.928Z"
   },
   {
    "duration": 309,
    "start_time": "2022-11-28T12:41:52.711Z"
   },
   {
    "duration": 139,
    "start_time": "2022-11-28T12:41:57.715Z"
   },
   {
    "duration": 153,
    "start_time": "2022-11-28T12:42:01.017Z"
   },
   {
    "duration": 367,
    "start_time": "2022-11-28T12:42:08.469Z"
   },
   {
    "duration": 393,
    "start_time": "2022-11-28T12:42:12.275Z"
   },
   {
    "duration": 1394,
    "start_time": "2022-11-28T12:46:17.563Z"
   },
   {
    "duration": 41,
    "start_time": "2022-11-28T12:46:18.958Z"
   },
   {
    "duration": 21,
    "start_time": "2022-11-28T12:46:19.001Z"
   },
   {
    "duration": 13,
    "start_time": "2022-11-28T12:46:19.024Z"
   },
   {
    "duration": 16,
    "start_time": "2022-11-28T12:46:19.040Z"
   },
   {
    "duration": 11,
    "start_time": "2022-11-28T12:46:19.057Z"
   },
   {
    "duration": 72,
    "start_time": "2022-11-28T12:46:19.069Z"
   },
   {
    "duration": 1011,
    "start_time": "2022-11-28T12:46:19.143Z"
   },
   {
    "duration": 4,
    "start_time": "2022-11-28T12:46:20.155Z"
   },
   {
    "duration": 20,
    "start_time": "2022-11-28T12:46:20.161Z"
   },
   {
    "duration": 6,
    "start_time": "2022-11-28T12:46:20.183Z"
   },
   {
    "duration": 20,
    "start_time": "2022-11-28T12:46:20.190Z"
   },
   {
    "duration": 15,
    "start_time": "2022-11-28T12:46:20.212Z"
   },
   {
    "duration": 5,
    "start_time": "2022-11-28T12:46:20.230Z"
   },
   {
    "duration": 18,
    "start_time": "2022-11-28T12:46:20.236Z"
   },
   {
    "duration": 9,
    "start_time": "2022-11-28T12:46:20.256Z"
   },
   {
    "duration": 8,
    "start_time": "2022-11-28T12:46:20.266Z"
   },
   {
    "duration": 6,
    "start_time": "2022-11-28T12:46:20.276Z"
   },
   {
    "duration": 7,
    "start_time": "2022-11-28T12:46:20.284Z"
   },
   {
    "duration": 31,
    "start_time": "2022-11-28T12:46:20.293Z"
   },
   {
    "duration": 4,
    "start_time": "2022-11-28T12:46:20.325Z"
   },
   {
    "duration": 10,
    "start_time": "2022-11-28T12:46:20.330Z"
   },
   {
    "duration": 6,
    "start_time": "2022-11-28T12:46:20.341Z"
   },
   {
    "duration": 17,
    "start_time": "2022-11-28T12:46:20.348Z"
   },
   {
    "duration": 5,
    "start_time": "2022-11-28T12:46:20.367Z"
   },
   {
    "duration": 14,
    "start_time": "2022-11-28T12:46:20.374Z"
   },
   {
    "duration": 20,
    "start_time": "2022-11-28T12:46:20.390Z"
   },
   {
    "duration": 5,
    "start_time": "2022-11-28T12:46:20.412Z"
   },
   {
    "duration": 688143,
    "start_time": "2022-11-28T12:46:20.419Z"
   },
   {
    "duration": 2986,
    "start_time": "2022-11-28T12:57:48.563Z"
   },
   {
    "duration": 3812,
    "start_time": "2022-11-28T12:57:51.551Z"
   },
   {
    "duration": 1550,
    "start_time": "2022-11-28T12:57:55.365Z"
   },
   {
    "duration": 4,
    "start_time": "2022-11-28T12:57:56.917Z"
   },
   {
    "duration": 358,
    "start_time": "2022-11-28T12:57:56.922Z"
   },
   {
    "duration": 82,
    "start_time": "2022-11-28T13:05:01.122Z"
   },
   {
    "duration": 44,
    "start_time": "2022-11-28T13:05:19.626Z"
   },
   {
    "duration": 175,
    "start_time": "2022-11-28T13:06:07.890Z"
   },
   {
    "duration": 43,
    "start_time": "2022-11-28T13:11:42.812Z"
   },
   {
    "duration": 5,
    "start_time": "2022-11-28T13:14:16.196Z"
   },
   {
    "duration": 117,
    "start_time": "2022-11-28T13:14:26.210Z"
   },
   {
    "duration": 43,
    "start_time": "2022-11-28T13:14:40.278Z"
   },
   {
    "duration": 598418,
    "start_time": "2022-11-28T13:15:07.219Z"
   },
   {
    "duration": 9,
    "start_time": "2022-11-28T13:26:07.638Z"
   },
   {
    "duration": 4,
    "start_time": "2022-11-28T13:26:12.008Z"
   },
   {
    "duration": 10,
    "start_time": "2022-11-28T13:26:17.717Z"
   },
   {
    "duration": 10,
    "start_time": "2022-11-28T13:34:41.021Z"
   },
   {
    "duration": 1128,
    "start_time": "2022-11-28T13:34:47.786Z"
   },
   {
    "duration": 31,
    "start_time": "2022-11-28T13:35:01.682Z"
   },
   {
    "duration": 38,
    "start_time": "2022-11-28T13:35:11.463Z"
   },
   {
    "duration": 17,
    "start_time": "2022-11-28T13:35:41.253Z"
   },
   {
    "duration": 11,
    "start_time": "2022-11-28T13:35:49.059Z"
   },
   {
    "duration": 20,
    "start_time": "2022-11-28T13:36:33.695Z"
   },
   {
    "duration": 9,
    "start_time": "2022-11-28T13:36:36.986Z"
   },
   {
    "duration": 1317,
    "start_time": "2022-11-28T13:36:52.433Z"
   },
   {
    "duration": 42,
    "start_time": "2022-11-28T13:36:53.752Z"
   },
   {
    "duration": 17,
    "start_time": "2022-11-28T13:36:53.795Z"
   },
   {
    "duration": 23,
    "start_time": "2022-11-28T13:36:53.813Z"
   },
   {
    "duration": 28,
    "start_time": "2022-11-28T13:36:53.838Z"
   },
   {
    "duration": 18,
    "start_time": "2022-11-28T13:36:53.867Z"
   },
   {
    "duration": 37,
    "start_time": "2022-11-28T13:36:53.887Z"
   },
   {
    "duration": 1013,
    "start_time": "2022-11-28T13:36:53.926Z"
   },
   {
    "duration": 5,
    "start_time": "2022-11-28T13:36:54.941Z"
   },
   {
    "duration": 15,
    "start_time": "2022-11-28T13:36:54.949Z"
   },
   {
    "duration": 8,
    "start_time": "2022-11-28T13:36:54.966Z"
   },
   {
    "duration": 12,
    "start_time": "2022-11-28T13:36:54.975Z"
   },
   {
    "duration": 21,
    "start_time": "2022-11-28T13:37:01.747Z"
   },
   {
    "duration": 10,
    "start_time": "2022-11-28T13:37:04.407Z"
   },
   {
    "duration": 15,
    "start_time": "2022-11-28T13:37:11.097Z"
   },
   {
    "duration": 5,
    "start_time": "2022-11-28T13:37:37.965Z"
   },
   {
    "duration": 11,
    "start_time": "2022-11-28T13:37:39.062Z"
   },
   {
    "duration": 4,
    "start_time": "2022-11-28T13:37:39.879Z"
   },
   {
    "duration": 4,
    "start_time": "2022-11-28T13:37:41.692Z"
   },
   {
    "duration": 4,
    "start_time": "2022-11-28T13:37:41.900Z"
   },
   {
    "duration": 2,
    "start_time": "2022-11-28T13:37:44.841Z"
   },
   {
    "duration": 16,
    "start_time": "2022-11-28T13:37:46.043Z"
   },
   {
    "duration": 3,
    "start_time": "2022-11-28T13:37:50.621Z"
   },
   {
    "duration": 3,
    "start_time": "2022-11-28T13:37:59.100Z"
   },
   {
    "duration": 9,
    "start_time": "2022-11-28T13:37:59.745Z"
   },
   {
    "duration": 6,
    "start_time": "2022-11-28T13:38:00.395Z"
   },
   {
    "duration": 4,
    "start_time": "2022-11-28T13:38:01.216Z"
   },
   {
    "duration": 8,
    "start_time": "2022-11-28T13:38:02.600Z"
   },
   {
    "duration": 7,
    "start_time": "2022-11-28T13:38:03.099Z"
   },
   {
    "duration": 403649,
    "start_time": "2022-11-28T13:38:18.592Z"
   },
   {
    "duration": 5,
    "start_time": "2022-11-28T13:48:36.549Z"
   },
   {
    "duration": 347,
    "start_time": "2022-11-28T13:48:39.198Z"
   },
   {
    "duration": 110,
    "start_time": "2022-11-28T13:53:28.014Z"
   },
   {
    "duration": 9099,
    "start_time": "2022-11-28T13:55:15.827Z"
   },
   {
    "duration": 1205,
    "start_time": "2022-11-28T13:55:39.605Z"
   },
   {
    "duration": 4,
    "start_time": "2022-11-28T13:57:19.301Z"
   },
   {
    "duration": 53,
    "start_time": "2022-11-28T13:57:19.307Z"
   },
   {
    "duration": 20,
    "start_time": "2022-11-28T13:57:19.362Z"
   },
   {
    "duration": 13,
    "start_time": "2022-11-28T13:57:19.384Z"
   },
   {
    "duration": 21,
    "start_time": "2022-11-28T13:57:19.399Z"
   },
   {
    "duration": 10,
    "start_time": "2022-11-28T13:57:19.422Z"
   },
   {
    "duration": 38,
    "start_time": "2022-11-28T13:57:19.434Z"
   },
   {
    "duration": 1060,
    "start_time": "2022-11-28T13:57:19.474Z"
   },
   {
    "duration": 6,
    "start_time": "2022-11-28T13:57:20.536Z"
   },
   {
    "duration": 16,
    "start_time": "2022-11-28T13:57:20.544Z"
   },
   {
    "duration": 11,
    "start_time": "2022-11-28T13:57:20.563Z"
   },
   {
    "duration": 43,
    "start_time": "2022-11-28T13:57:20.576Z"
   },
   {
    "duration": 5,
    "start_time": "2022-11-28T13:57:20.621Z"
   },
   {
    "duration": 27,
    "start_time": "2022-11-28T13:57:20.628Z"
   },
   {
    "duration": 8,
    "start_time": "2022-11-28T13:57:20.657Z"
   },
   {
    "duration": 10,
    "start_time": "2022-11-28T13:57:20.667Z"
   },
   {
    "duration": 9,
    "start_time": "2022-11-28T13:57:20.679Z"
   },
   {
    "duration": 16,
    "start_time": "2022-11-28T13:57:20.689Z"
   },
   {
    "duration": 26,
    "start_time": "2022-11-28T13:57:20.707Z"
   },
   {
    "duration": 5,
    "start_time": "2022-11-28T13:57:20.734Z"
   },
   {
    "duration": 10881,
    "start_time": "2022-11-28T13:57:20.740Z"
   },
   {
    "duration": 2728,
    "start_time": "2022-11-28T13:57:31.622Z"
   },
   {
    "duration": 6,
    "start_time": "2022-11-28T13:57:34.351Z"
   },
   {
    "duration": 28,
    "start_time": "2022-11-28T13:57:34.358Z"
   },
   {
    "duration": 6,
    "start_time": "2022-11-28T13:57:53.140Z"
   },
   {
    "duration": 466198,
    "start_time": "2022-11-28T13:58:33.428Z"
   },
   {
    "duration": 6,
    "start_time": "2022-11-28T14:08:53.094Z"
   },
   {
    "duration": 397,
    "start_time": "2022-11-28T14:08:59.484Z"
   },
   {
    "duration": 384,
    "start_time": "2022-11-28T14:09:13.016Z"
   },
   {
    "duration": 143,
    "start_time": "2022-11-28T14:09:20.328Z"
   },
   {
    "duration": 147,
    "start_time": "2022-11-28T14:09:27.609Z"
   },
   {
    "duration": 640103,
    "start_time": "2022-11-28T14:09:48.971Z"
   },
   {
    "duration": 4,
    "start_time": "2022-11-28T14:22:35.469Z"
   },
   {
    "duration": 185,
    "start_time": "2022-11-28T14:22:38.519Z"
   },
   {
    "duration": 948,
    "start_time": "2022-11-28T14:23:09.338Z"
   },
   {
    "duration": 1041,
    "start_time": "2022-11-28T14:23:14.179Z"
   },
   {
    "duration": 1112,
    "start_time": "2022-11-28T14:23:18.748Z"
   },
   {
    "duration": 10,
    "start_time": "2022-11-28T14:24:49.137Z"
   },
   {
    "duration": 6,
    "start_time": "2022-11-28T14:24:50.681Z"
   },
   {
    "duration": 12,
    "start_time": "2022-11-28T14:24:52.266Z"
   },
   {
    "duration": 4,
    "start_time": "2022-11-28T14:24:56.729Z"
   },
   {
    "duration": 19,
    "start_time": "2022-11-28T14:24:57.366Z"
   },
   {
    "duration": 1224,
    "start_time": "2022-11-28T14:25:19.992Z"
   },
   {
    "duration": 42,
    "start_time": "2022-11-28T14:25:21.218Z"
   },
   {
    "duration": 18,
    "start_time": "2022-11-28T14:25:22.342Z"
   },
   {
    "duration": 14,
    "start_time": "2022-11-28T14:25:24.877Z"
   },
   {
    "duration": 16,
    "start_time": "2022-11-28T14:26:49.757Z"
   },
   {
    "duration": 11,
    "start_time": "2022-11-28T14:26:50.418Z"
   },
   {
    "duration": 43,
    "start_time": "2022-11-28T14:26:50.975Z"
   },
   {
    "duration": 1104,
    "start_time": "2022-11-28T14:28:01.669Z"
   },
   {
    "duration": 5,
    "start_time": "2022-11-28T14:28:07.399Z"
   },
   {
    "duration": 12,
    "start_time": "2022-11-28T14:28:09.361Z"
   },
   {
    "duration": 6,
    "start_time": "2022-11-28T14:28:10.138Z"
   },
   {
    "duration": 11,
    "start_time": "2022-11-28T14:28:12.012Z"
   },
   {
    "duration": 6,
    "start_time": "2022-11-28T14:28:12.644Z"
   },
   {
    "duration": 12,
    "start_time": "2022-11-28T14:28:13.331Z"
   },
   {
    "duration": 3,
    "start_time": "2022-11-28T14:28:13.993Z"
   },
   {
    "duration": 3,
    "start_time": "2022-11-28T14:28:14.477Z"
   },
   {
    "duration": 3,
    "start_time": "2022-11-28T14:28:15.091Z"
   },
   {
    "duration": 26,
    "start_time": "2022-11-28T14:28:21.591Z"
   },
   {
    "duration": 545067,
    "start_time": "2022-11-28T14:28:35.772Z"
   },
   {
    "duration": 5,
    "start_time": "2022-11-28T14:51:59.304Z"
   },
   {
    "duration": 954,
    "start_time": "2022-11-28T14:52:02.763Z"
   },
   {
    "duration": 7,
    "start_time": "2022-11-28T14:53:21.040Z"
   },
   {
    "duration": 10,
    "start_time": "2022-11-28T14:54:44.310Z"
   },
   {
    "duration": 7,
    "start_time": "2022-11-28T14:54:45.055Z"
   },
   {
    "duration": 1239,
    "start_time": "2022-11-28T14:57:50.165Z"
   },
   {
    "duration": 42,
    "start_time": "2022-11-28T14:57:51.406Z"
   },
   {
    "duration": 38,
    "start_time": "2022-11-28T14:57:51.450Z"
   },
   {
    "duration": 12,
    "start_time": "2022-11-28T14:57:51.489Z"
   },
   {
    "duration": 17,
    "start_time": "2022-11-28T14:57:51.503Z"
   },
   {
    "duration": 10,
    "start_time": "2022-11-28T14:57:51.521Z"
   },
   {
    "duration": 38,
    "start_time": "2022-11-28T14:57:51.533Z"
   },
   {
    "duration": 1005,
    "start_time": "2022-11-28T14:57:51.572Z"
   },
   {
    "duration": 3,
    "start_time": "2022-11-28T14:57:52.579Z"
   },
   {
    "duration": 32,
    "start_time": "2022-11-28T14:57:52.584Z"
   },
   {
    "duration": 7,
    "start_time": "2022-11-28T14:57:52.617Z"
   },
   {
    "duration": 17,
    "start_time": "2022-11-28T14:57:52.625Z"
   },
   {
    "duration": 5,
    "start_time": "2022-11-28T14:57:52.643Z"
   },
   {
    "duration": 15,
    "start_time": "2022-11-28T14:57:52.652Z"
   },
   {
    "duration": 46,
    "start_time": "2022-11-28T14:57:52.669Z"
   },
   {
    "duration": 10,
    "start_time": "2022-11-28T14:57:52.717Z"
   },
   {
    "duration": 10,
    "start_time": "2022-11-28T14:57:52.729Z"
   },
   {
    "duration": 7,
    "start_time": "2022-11-28T14:57:52.740Z"
   },
   {
    "duration": 21,
    "start_time": "2022-11-28T14:57:52.749Z"
   },
   {
    "duration": 4,
    "start_time": "2022-11-28T14:57:52.772Z"
   },
   {
    "duration": 317573,
    "start_time": "2022-11-28T14:57:52.777Z"
   },
   {
    "duration": 2839,
    "start_time": "2022-11-28T15:03:10.352Z"
   },
   {
    "duration": 13,
    "start_time": "2022-11-28T15:03:13.192Z"
   },
   {
    "duration": 22,
    "start_time": "2022-11-28T15:03:13.207Z"
   },
   {
    "duration": 5,
    "start_time": "2022-11-28T15:03:13.231Z"
   },
   {
    "duration": 125,
    "start_time": "2022-11-28T15:03:13.238Z"
   },
   {
    "duration": 0,
    "start_time": "2022-11-28T15:03:13.364Z"
   },
   {
    "duration": 0,
    "start_time": "2022-11-28T15:03:13.365Z"
   },
   {
    "duration": 0,
    "start_time": "2022-11-28T15:03:13.367Z"
   },
   {
    "duration": 0,
    "start_time": "2022-11-28T15:03:13.368Z"
   },
   {
    "duration": 0,
    "start_time": "2022-11-28T15:03:13.369Z"
   },
   {
    "duration": 0,
    "start_time": "2022-11-28T15:03:13.370Z"
   },
   {
    "duration": 0,
    "start_time": "2022-11-28T15:03:13.372Z"
   },
   {
    "duration": 0,
    "start_time": "2022-11-28T15:03:13.373Z"
   },
   {
    "duration": 0,
    "start_time": "2022-11-28T15:03:13.374Z"
   },
   {
    "duration": 0,
    "start_time": "2022-11-28T15:03:13.375Z"
   },
   {
    "duration": 18,
    "start_time": "2022-11-28T15:12:30.429Z"
   },
   {
    "duration": 13,
    "start_time": "2022-11-28T15:13:37.450Z"
   },
   {
    "duration": 4,
    "start_time": "2022-11-28T15:13:38.356Z"
   },
   {
    "duration": 4,
    "start_time": "2022-11-28T15:13:39.037Z"
   },
   {
    "duration": 4,
    "start_time": "2022-11-28T15:13:39.617Z"
   },
   {
    "duration": 4887,
    "start_time": "2022-11-28T15:19:49.411Z"
   },
   {
    "duration": 78,
    "start_time": "2022-11-28T15:21:47.166Z"
   },
   {
    "duration": 4510,
    "start_time": "2022-11-28T15:21:54.500Z"
   },
   {
    "duration": 4333,
    "start_time": "2022-11-28T15:23:31.403Z"
   },
   {
    "duration": 4726,
    "start_time": "2022-11-28T15:24:05.068Z"
   },
   {
    "duration": 1179,
    "start_time": "2022-11-28T15:28:27.656Z"
   },
   {
    "duration": 40,
    "start_time": "2022-11-28T15:28:28.837Z"
   },
   {
    "duration": 17,
    "start_time": "2022-11-28T15:28:28.879Z"
   },
   {
    "duration": 11,
    "start_time": "2022-11-28T15:28:28.898Z"
   },
   {
    "duration": 15,
    "start_time": "2022-11-28T15:28:28.911Z"
   },
   {
    "duration": 10,
    "start_time": "2022-11-28T15:28:28.928Z"
   },
   {
    "duration": 36,
    "start_time": "2022-11-28T15:28:28.939Z"
   },
   {
    "duration": 1036,
    "start_time": "2022-11-28T15:28:28.977Z"
   },
   {
    "duration": 4,
    "start_time": "2022-11-28T15:28:30.015Z"
   },
   {
    "duration": 33,
    "start_time": "2022-11-28T15:28:30.022Z"
   },
   {
    "duration": 13,
    "start_time": "2022-11-28T15:28:30.056Z"
   },
   {
    "duration": 37,
    "start_time": "2022-11-28T15:28:30.070Z"
   },
   {
    "duration": 30,
    "start_time": "2022-11-28T15:28:30.109Z"
   },
   {
    "duration": 39,
    "start_time": "2022-11-28T15:28:30.141Z"
   },
   {
    "duration": 33,
    "start_time": "2022-11-28T15:28:30.181Z"
   },
   {
    "duration": 22,
    "start_time": "2022-11-28T15:28:30.215Z"
   },
   {
    "duration": 21,
    "start_time": "2022-11-28T15:28:30.238Z"
   },
   {
    "duration": 21,
    "start_time": "2022-11-28T15:28:30.261Z"
   },
   {
    "duration": 36,
    "start_time": "2022-11-28T15:28:30.283Z"
   },
   {
    "duration": 8,
    "start_time": "2022-11-28T15:28:30.320Z"
   },
   {
    "duration": 300442,
    "start_time": "2022-11-28T15:28:30.329Z"
   },
   {
    "duration": 2671,
    "start_time": "2022-11-28T15:33:30.772Z"
   },
   {
    "duration": 5,
    "start_time": "2022-11-28T15:33:33.444Z"
   },
   {
    "duration": 37,
    "start_time": "2022-11-28T15:33:33.451Z"
   },
   {
    "duration": 18,
    "start_time": "2022-11-28T15:33:33.490Z"
   },
   {
    "duration": 14,
    "start_time": "2022-11-28T15:33:33.509Z"
   },
   {
    "duration": 5,
    "start_time": "2022-11-28T15:33:33.524Z"
   },
   {
    "duration": 715909,
    "start_time": "2022-11-28T15:33:33.532Z"
   },
   {
    "duration": 549886,
    "start_time": "2022-11-28T15:45:29.443Z"
   },
   {
    "duration": 164542,
    "start_time": "2022-11-28T15:54:39.330Z"
   },
   {
    "duration": 5599,
    "start_time": "2022-11-28T15:57:23.873Z"
   },
   {
    "duration": 4657,
    "start_time": "2022-11-28T15:57:29.473Z"
   },
   {
    "duration": 1463,
    "start_time": "2022-11-28T15:57:34.132Z"
   },
   {
    "duration": 10,
    "start_time": "2022-11-28T15:57:35.596Z"
   },
   {
    "duration": 845,
    "start_time": "2022-11-28T15:57:35.607Z"
   },
   {
    "duration": 3598,
    "start_time": "2022-11-28T16:21:13.076Z"
   },
   {
    "duration": 3640,
    "start_time": "2022-11-28T16:21:43.665Z"
   },
   {
    "duration": 4446,
    "start_time": "2022-11-28T16:22:03.450Z"
   },
   {
    "duration": 192,
    "start_time": "2022-11-28T16:22:50.290Z"
   },
   {
    "duration": 191,
    "start_time": "2022-11-28T16:23:20.435Z"
   },
   {
    "duration": 987,
    "start_time": "2022-11-28T16:23:27.532Z"
   },
   {
    "duration": 1078,
    "start_time": "2022-11-28T16:23:31.893Z"
   },
   {
    "duration": 1107,
    "start_time": "2022-11-28T16:23:38.504Z"
   },
   {
    "duration": 1233,
    "start_time": "2022-11-28T16:23:43.148Z"
   },
   {
    "duration": 1403,
    "start_time": "2022-11-28T16:23:50.756Z"
   },
   {
    "duration": 1459,
    "start_time": "2022-11-28T16:23:56.904Z"
   },
   {
    "duration": 1505,
    "start_time": "2022-11-28T16:24:02.994Z"
   },
   {
    "duration": 1542,
    "start_time": "2022-11-28T16:24:09.219Z"
   },
   {
    "duration": 1585,
    "start_time": "2022-11-28T16:24:14.606Z"
   },
   {
    "duration": 1676,
    "start_time": "2022-11-28T16:24:20.307Z"
   },
   {
    "duration": 1787,
    "start_time": "2022-11-28T16:24:27.067Z"
   },
   {
    "duration": 1782,
    "start_time": "2022-11-28T16:24:31.359Z"
   },
   {
    "duration": 1998,
    "start_time": "2022-11-28T16:24:36.405Z"
   },
   {
    "duration": 2158,
    "start_time": "2022-11-28T16:24:41.429Z"
   },
   {
    "duration": 2205,
    "start_time": "2022-11-28T16:24:46.422Z"
   },
   {
    "duration": 188,
    "start_time": "2022-11-28T16:24:57.727Z"
   },
   {
    "duration": 279,
    "start_time": "2022-11-28T16:25:01.045Z"
   },
   {
    "duration": 187,
    "start_time": "2022-11-28T16:25:11.844Z"
   },
   {
    "duration": 198,
    "start_time": "2022-11-28T16:27:54.117Z"
   },
   {
    "duration": 197,
    "start_time": "2022-11-28T16:28:04.293Z"
   },
   {
    "duration": 2251,
    "start_time": "2022-11-28T16:28:55.512Z"
   },
   {
    "duration": 2211,
    "start_time": "2022-11-28T16:29:00.531Z"
   },
   {
    "duration": 2394,
    "start_time": "2022-11-28T16:29:05.411Z"
   },
   {
    "duration": 2317,
    "start_time": "2022-11-28T16:29:10.669Z"
   },
   {
    "duration": 2489,
    "start_time": "2022-11-28T16:29:15.882Z"
   },
   {
    "duration": 204,
    "start_time": "2022-11-28T16:29:28.431Z"
   },
   {
    "duration": 190,
    "start_time": "2022-11-28T16:29:33.778Z"
   },
   {
    "duration": 2578,
    "start_time": "2022-11-28T16:29:41.676Z"
   },
   {
    "duration": 2651,
    "start_time": "2022-11-28T16:29:46.785Z"
   },
   {
    "duration": 2759,
    "start_time": "2022-11-28T16:29:52.726Z"
   },
   {
    "duration": 2849,
    "start_time": "2022-11-28T16:29:58.440Z"
   },
   {
    "duration": 2848,
    "start_time": "2022-11-28T16:30:04.164Z"
   },
   {
    "duration": 2856,
    "start_time": "2022-11-28T16:30:10.184Z"
   },
   {
    "duration": 48,
    "start_time": "2022-11-29T09:34:56.773Z"
   },
   {
    "duration": 1642,
    "start_time": "2022-11-29T09:35:06.195Z"
   },
   {
    "duration": 0,
    "start_time": "2022-11-29T09:35:07.839Z"
   },
   {
    "duration": 0,
    "start_time": "2022-11-29T09:35:07.840Z"
   },
   {
    "duration": 0,
    "start_time": "2022-11-29T09:35:07.841Z"
   },
   {
    "duration": 0,
    "start_time": "2022-11-29T09:35:07.842Z"
   },
   {
    "duration": 0,
    "start_time": "2022-11-29T09:35:07.843Z"
   },
   {
    "duration": 0,
    "start_time": "2022-11-29T09:35:07.844Z"
   },
   {
    "duration": 0,
    "start_time": "2022-11-29T09:35:07.845Z"
   },
   {
    "duration": 0,
    "start_time": "2022-11-29T09:35:07.847Z"
   },
   {
    "duration": 0,
    "start_time": "2022-11-29T09:35:07.848Z"
   },
   {
    "duration": 7250,
    "start_time": "2022-11-29T09:35:56.972Z"
   },
   {
    "duration": 1224,
    "start_time": "2022-11-29T09:36:31.118Z"
   },
   {
    "duration": 155,
    "start_time": "2022-11-29T09:36:33.876Z"
   },
   {
    "duration": 17,
    "start_time": "2022-11-29T09:36:37.364Z"
   },
   {
    "duration": 239,
    "start_time": "2022-11-29T09:36:37.748Z"
   },
   {
    "duration": 17,
    "start_time": "2022-11-29T09:36:38.262Z"
   },
   {
    "duration": 11,
    "start_time": "2022-11-29T09:36:38.944Z"
   },
   {
    "duration": 40,
    "start_time": "2022-11-29T09:36:39.601Z"
   },
   {
    "duration": 948,
    "start_time": "2022-11-29T09:36:42.756Z"
   },
   {
    "duration": 4,
    "start_time": "2022-11-29T09:36:47.510Z"
   },
   {
    "duration": 5,
    "start_time": "2022-11-29T09:37:06.274Z"
   },
   {
    "duration": 104,
    "start_time": "2022-11-29T09:37:58.654Z"
   },
   {
    "duration": 117,
    "start_time": "2022-11-29T09:38:04.684Z"
   },
   {
    "duration": 138,
    "start_time": "2022-11-29T09:39:51.107Z"
   },
   {
    "duration": 194,
    "start_time": "2022-11-29T09:40:32.375Z"
   },
   {
    "duration": 11,
    "start_time": "2022-11-29T09:40:55.077Z"
   },
   {
    "duration": 3,
    "start_time": "2022-11-29T09:41:08.499Z"
   },
   {
    "duration": 14,
    "start_time": "2022-11-29T09:41:15.134Z"
   },
   {
    "duration": 3,
    "start_time": "2022-11-29T09:42:02.118Z"
   },
   {
    "duration": 4,
    "start_time": "2022-11-29T09:42:04.619Z"
   },
   {
    "duration": 14,
    "start_time": "2022-11-29T09:42:29.120Z"
   },
   {
    "duration": 74,
    "start_time": "2022-11-29T09:42:43.872Z"
   },
   {
    "duration": 22,
    "start_time": "2022-11-29T09:42:51.203Z"
   },
   {
    "duration": 596,
    "start_time": "2022-11-29T09:43:05.376Z"
   },
   {
    "duration": 7,
    "start_time": "2022-11-29T09:43:28.839Z"
   },
   {
    "duration": 6,
    "start_time": "2022-11-29T09:43:40.871Z"
   },
   {
    "duration": 6,
    "start_time": "2022-11-29T09:43:47.580Z"
   },
   {
    "duration": 4,
    "start_time": "2022-11-29T09:43:59.933Z"
   },
   {
    "duration": 129,
    "start_time": "2022-11-29T09:44:48.284Z"
   },
   {
    "duration": 119,
    "start_time": "2022-11-29T09:47:02.947Z"
   },
   {
    "duration": 146,
    "start_time": "2022-11-29T09:47:14.172Z"
   },
   {
    "duration": 135,
    "start_time": "2022-11-29T09:49:03.181Z"
   },
   {
    "duration": 134,
    "start_time": "2022-11-29T09:49:09.307Z"
   },
   {
    "duration": 14,
    "start_time": "2022-11-29T09:51:15.504Z"
   },
   {
    "duration": 13,
    "start_time": "2022-11-29T09:51:24.004Z"
   },
   {
    "duration": 134,
    "start_time": "2022-11-29T09:51:28.601Z"
   },
   {
    "duration": 139,
    "start_time": "2022-11-29T09:51:44.326Z"
   },
   {
    "duration": 136,
    "start_time": "2022-11-29T09:51:55.947Z"
   },
   {
    "duration": 132,
    "start_time": "2022-11-29T09:52:02.892Z"
   },
   {
    "duration": 143,
    "start_time": "2022-11-29T09:54:03.737Z"
   },
   {
    "duration": 230,
    "start_time": "2022-11-29T09:54:07.840Z"
   },
   {
    "duration": 135,
    "start_time": "2022-11-29T09:54:11.012Z"
   },
   {
    "duration": 157,
    "start_time": "2022-11-29T09:54:18.987Z"
   },
   {
    "duration": 12,
    "start_time": "2022-11-29T09:54:32.228Z"
   },
   {
    "duration": 6,
    "start_time": "2022-11-29T09:54:36.351Z"
   },
   {
    "duration": 4,
    "start_time": "2022-11-29T09:58:18.429Z"
   },
   {
    "duration": 85,
    "start_time": "2022-11-29T09:58:33.144Z"
   },
   {
    "duration": 9,
    "start_time": "2022-11-29T10:11:05.575Z"
   },
   {
    "duration": 9,
    "start_time": "2022-11-29T10:11:09.921Z"
   },
   {
    "duration": 7,
    "start_time": "2022-11-29T10:11:15.120Z"
   },
   {
    "duration": 5,
    "start_time": "2022-11-29T10:11:17.724Z"
   },
   {
    "duration": 13,
    "start_time": "2022-11-29T10:11:18.313Z"
   },
   {
    "duration": 4,
    "start_time": "2022-11-29T10:11:20.069Z"
   },
   {
    "duration": 4,
    "start_time": "2022-11-29T10:11:20.576Z"
   },
   {
    "duration": 4,
    "start_time": "2022-11-29T10:11:21.001Z"
   },
   {
    "duration": 10,
    "start_time": "2022-11-29T10:11:22.776Z"
   },
   {
    "duration": 10,
    "start_time": "2022-11-29T10:11:23.673Z"
   },
   {
    "duration": 11,
    "start_time": "2022-11-29T10:11:24.118Z"
   },
   {
    "duration": 4,
    "start_time": "2022-11-29T10:11:28.955Z"
   },
   {
    "duration": 12,
    "start_time": "2022-11-29T10:11:39.753Z"
   },
   {
    "duration": 11,
    "start_time": "2022-11-29T10:12:05.628Z"
   },
   {
    "duration": 4,
    "start_time": "2022-11-29T10:12:12.656Z"
   },
   {
    "duration": 50,
    "start_time": "2022-11-29T10:12:12.662Z"
   },
   {
    "duration": 15,
    "start_time": "2022-11-29T10:12:12.714Z"
   },
   {
    "duration": 15,
    "start_time": "2022-11-29T10:12:12.730Z"
   },
   {
    "duration": 17,
    "start_time": "2022-11-29T10:12:12.747Z"
   },
   {
    "duration": 10,
    "start_time": "2022-11-29T10:12:12.766Z"
   },
   {
    "duration": 64,
    "start_time": "2022-11-29T10:12:12.778Z"
   },
   {
    "duration": 969,
    "start_time": "2022-11-29T10:12:12.844Z"
   },
   {
    "duration": 4,
    "start_time": "2022-11-29T10:12:13.822Z"
   },
   {
    "duration": 145,
    "start_time": "2022-11-29T10:12:13.828Z"
   },
   {
    "duration": 5,
    "start_time": "2022-11-29T10:12:13.975Z"
   },
   {
    "duration": 182,
    "start_time": "2022-11-29T10:12:13.981Z"
   },
   {
    "duration": 15,
    "start_time": "2022-11-29T10:12:14.165Z"
   },
   {
    "duration": 13,
    "start_time": "2022-11-29T10:12:14.182Z"
   },
   {
    "duration": 14,
    "start_time": "2022-11-29T10:12:14.198Z"
   },
   {
    "duration": 20,
    "start_time": "2022-11-29T10:12:14.221Z"
   },
   {
    "duration": 5,
    "start_time": "2022-11-29T10:12:18.824Z"
   },
   {
    "duration": 11,
    "start_time": "2022-11-29T10:12:19.954Z"
   },
   {
    "duration": 10,
    "start_time": "2022-11-29T10:12:58.033Z"
   },
   {
    "duration": 9,
    "start_time": "2022-11-29T10:12:58.795Z"
   },
   {
    "duration": 9,
    "start_time": "2022-11-29T10:12:59.438Z"
   },
   {
    "duration": 2,
    "start_time": "2022-11-29T10:13:15.072Z"
   },
   {
    "duration": 24,
    "start_time": "2022-11-29T10:13:15.657Z"
   },
   {
    "duration": 4,
    "start_time": "2022-11-29T10:13:16.176Z"
   },
   {
    "duration": 99772,
    "start_time": "2022-11-29T10:13:20.924Z"
   },
   {
    "duration": 11,
    "start_time": "2022-11-29T10:15:46.239Z"
   },
   {
    "duration": 5,
    "start_time": "2022-11-29T10:15:55.956Z"
   },
   {
    "duration": 10,
    "start_time": "2022-11-29T10:16:09.097Z"
   },
   {
    "duration": 11,
    "start_time": "2022-11-29T10:16:19.126Z"
   },
   {
    "duration": 17,
    "start_time": "2022-11-29T10:16:24.248Z"
   },
   {
    "duration": 4,
    "start_time": "2022-11-29T10:19:45.136Z"
   },
   {
    "duration": 45,
    "start_time": "2022-11-29T10:19:45.142Z"
   },
   {
    "duration": 14,
    "start_time": "2022-11-29T10:19:45.189Z"
   },
   {
    "duration": 17,
    "start_time": "2022-11-29T10:19:45.205Z"
   },
   {
    "duration": 17,
    "start_time": "2022-11-29T10:19:45.224Z"
   },
   {
    "duration": 12,
    "start_time": "2022-11-29T10:19:45.243Z"
   },
   {
    "duration": 66,
    "start_time": "2022-11-29T10:19:45.257Z"
   },
   {
    "duration": 992,
    "start_time": "2022-11-29T10:19:45.325Z"
   },
   {
    "duration": 4,
    "start_time": "2022-11-29T10:19:46.321Z"
   },
   {
    "duration": 146,
    "start_time": "2022-11-29T10:19:46.327Z"
   },
   {
    "duration": 5,
    "start_time": "2022-11-29T10:19:46.477Z"
   },
   {
    "duration": 151,
    "start_time": "2022-11-29T10:19:46.484Z"
   },
   {
    "duration": 13,
    "start_time": "2022-11-29T10:19:46.637Z"
   },
   {
    "duration": 9,
    "start_time": "2022-11-29T10:19:46.652Z"
   },
   {
    "duration": 8,
    "start_time": "2022-11-29T10:19:46.662Z"
   },
   {
    "duration": 14,
    "start_time": "2022-11-29T10:19:46.671Z"
   },
   {
    "duration": 4,
    "start_time": "2022-11-29T10:19:46.687Z"
   },
   {
    "duration": 38,
    "start_time": "2022-11-29T10:19:46.692Z"
   },
   {
    "duration": 7,
    "start_time": "2022-11-29T10:19:46.731Z"
   },
   {
    "duration": 21,
    "start_time": "2022-11-29T10:19:46.739Z"
   },
   {
    "duration": 20,
    "start_time": "2022-11-29T10:19:46.761Z"
   },
   {
    "duration": 23,
    "start_time": "2022-11-29T10:19:46.782Z"
   },
   {
    "duration": 8,
    "start_time": "2022-11-29T10:19:56.590Z"
   },
   {
    "duration": 8,
    "start_time": "2022-11-29T10:19:57.417Z"
   },
   {
    "duration": 9,
    "start_time": "2022-11-29T10:19:58.282Z"
   },
   {
    "duration": 1256,
    "start_time": "2022-11-29T10:20:17.281Z"
   },
   {
    "duration": 40,
    "start_time": "2022-11-29T10:20:18.539Z"
   },
   {
    "duration": 19,
    "start_time": "2022-11-29T10:20:18.581Z"
   },
   {
    "duration": 26,
    "start_time": "2022-11-29T10:20:18.602Z"
   },
   {
    "duration": 33,
    "start_time": "2022-11-29T10:20:18.630Z"
   },
   {
    "duration": 19,
    "start_time": "2022-11-29T10:20:18.664Z"
   },
   {
    "duration": 63,
    "start_time": "2022-11-29T10:20:18.684Z"
   },
   {
    "duration": 1024,
    "start_time": "2022-11-29T10:20:18.748Z"
   },
   {
    "duration": 4,
    "start_time": "2022-11-29T10:20:19.773Z"
   },
   {
    "duration": 164,
    "start_time": "2022-11-29T10:20:19.780Z"
   },
   {
    "duration": 5,
    "start_time": "2022-11-29T10:20:19.945Z"
   },
   {
    "duration": 157,
    "start_time": "2022-11-29T10:20:19.952Z"
   },
   {
    "duration": 14,
    "start_time": "2022-11-29T10:20:20.111Z"
   },
   {
    "duration": 20,
    "start_time": "2022-11-29T10:20:20.127Z"
   },
   {
    "duration": 17,
    "start_time": "2022-11-29T10:20:20.149Z"
   },
   {
    "duration": 36,
    "start_time": "2022-11-29T10:20:20.168Z"
   },
   {
    "duration": 22,
    "start_time": "2022-11-29T10:20:20.206Z"
   },
   {
    "duration": 17,
    "start_time": "2022-11-29T10:20:20.230Z"
   },
   {
    "duration": 108,
    "start_time": "2022-11-29T10:20:20.249Z"
   },
   {
    "duration": 37,
    "start_time": "2022-11-29T10:20:20.359Z"
   },
   {
    "duration": 12,
    "start_time": "2022-11-29T10:20:20.398Z"
   },
   {
    "duration": 16,
    "start_time": "2022-11-29T10:20:20.411Z"
   },
   {
    "duration": 4,
    "start_time": "2022-11-29T10:26:05.581Z"
   },
   {
    "duration": 132,
    "start_time": "2022-11-29T10:30:41.679Z"
   },
   {
    "duration": 18,
    "start_time": "2022-11-29T10:31:12.894Z"
   },
   {
    "duration": 1765,
    "start_time": "2022-11-30T07:32:46.048Z"
   },
   {
    "duration": 0,
    "start_time": "2022-11-30T07:32:47.815Z"
   },
   {
    "duration": 0,
    "start_time": "2022-11-30T07:32:47.816Z"
   },
   {
    "duration": 0,
    "start_time": "2022-11-30T07:32:47.817Z"
   },
   {
    "duration": 0,
    "start_time": "2022-11-30T07:32:47.818Z"
   },
   {
    "duration": 0,
    "start_time": "2022-11-30T07:32:47.819Z"
   },
   {
    "duration": 0,
    "start_time": "2022-11-30T07:32:47.824Z"
   },
   {
    "duration": 0,
    "start_time": "2022-11-30T07:32:47.826Z"
   },
   {
    "duration": 0,
    "start_time": "2022-11-30T07:32:47.827Z"
   },
   {
    "duration": 0,
    "start_time": "2022-11-30T07:32:47.828Z"
   },
   {
    "duration": 0,
    "start_time": "2022-11-30T07:32:47.830Z"
   },
   {
    "duration": 0,
    "start_time": "2022-11-30T07:32:47.831Z"
   },
   {
    "duration": 0,
    "start_time": "2022-11-30T07:32:47.833Z"
   },
   {
    "duration": 0,
    "start_time": "2022-11-30T07:32:47.834Z"
   },
   {
    "duration": 0,
    "start_time": "2022-11-30T07:32:47.835Z"
   },
   {
    "duration": 0,
    "start_time": "2022-11-30T07:32:47.837Z"
   },
   {
    "duration": 0,
    "start_time": "2022-11-30T07:32:47.838Z"
   },
   {
    "duration": 0,
    "start_time": "2022-11-30T07:32:47.839Z"
   },
   {
    "duration": 0,
    "start_time": "2022-11-30T07:32:47.840Z"
   },
   {
    "duration": 9077,
    "start_time": "2022-11-30T07:33:09.765Z"
   },
   {
    "duration": 1297,
    "start_time": "2022-11-30T07:33:33.988Z"
   },
   {
    "duration": 368,
    "start_time": "2022-11-30T07:33:35.287Z"
   },
   {
    "duration": 17,
    "start_time": "2022-11-30T07:33:35.657Z"
   },
   {
    "duration": 21,
    "start_time": "2022-11-30T07:33:35.675Z"
   },
   {
    "duration": 16,
    "start_time": "2022-11-30T07:33:35.698Z"
   },
   {
    "duration": 9,
    "start_time": "2022-11-30T07:33:35.716Z"
   },
   {
    "duration": 54,
    "start_time": "2022-11-30T07:33:35.727Z"
   },
   {
    "duration": 1005,
    "start_time": "2022-11-30T07:33:35.782Z"
   },
   {
    "duration": 4,
    "start_time": "2022-11-30T07:33:36.793Z"
   },
   {
    "duration": 135,
    "start_time": "2022-11-30T07:33:36.798Z"
   },
   {
    "duration": 5,
    "start_time": "2022-11-30T07:33:36.935Z"
   },
   {
    "duration": 154,
    "start_time": "2022-11-30T07:33:36.942Z"
   },
   {
    "duration": 12,
    "start_time": "2022-11-30T07:33:37.098Z"
   },
   {
    "duration": 7,
    "start_time": "2022-11-30T07:33:37.113Z"
   },
   {
    "duration": 8,
    "start_time": "2022-11-30T07:33:37.121Z"
   },
   {
    "duration": 116,
    "start_time": "2022-11-30T07:33:37.130Z"
   },
   {
    "duration": 4,
    "start_time": "2022-11-30T07:33:37.249Z"
   },
   {
    "duration": 17,
    "start_time": "2022-11-30T07:33:37.255Z"
   },
   {
    "duration": 21,
    "start_time": "2022-11-30T07:33:37.273Z"
   },
   {
    "duration": 41,
    "start_time": "2022-11-30T07:33:37.296Z"
   },
   {
    "duration": 3,
    "start_time": "2022-11-30T07:33:37.338Z"
   },
   {
    "duration": 127,
    "start_time": "2022-11-30T07:33:37.342Z"
   },
   {
    "duration": 0,
    "start_time": "2022-11-30T07:33:37.470Z"
   },
   {
    "duration": 0,
    "start_time": "2022-11-30T07:33:37.472Z"
   },
   {
    "duration": 0,
    "start_time": "2022-11-30T07:33:37.482Z"
   },
   {
    "duration": 0,
    "start_time": "2022-11-30T07:33:37.483Z"
   },
   {
    "duration": 0,
    "start_time": "2022-11-30T07:33:37.483Z"
   },
   {
    "duration": 0,
    "start_time": "2022-11-30T07:33:37.484Z"
   },
   {
    "duration": 0,
    "start_time": "2022-11-30T07:33:37.485Z"
   },
   {
    "duration": 0,
    "start_time": "2022-11-30T07:33:37.486Z"
   },
   {
    "duration": 0,
    "start_time": "2022-11-30T07:33:37.486Z"
   },
   {
    "duration": 0,
    "start_time": "2022-11-30T07:33:37.487Z"
   },
   {
    "duration": 0,
    "start_time": "2022-11-30T07:33:37.488Z"
   },
   {
    "duration": 0,
    "start_time": "2022-11-30T07:33:37.489Z"
   },
   {
    "duration": 0,
    "start_time": "2022-11-30T07:33:37.490Z"
   },
   {
    "duration": 0,
    "start_time": "2022-11-30T07:33:37.491Z"
   },
   {
    "duration": 0,
    "start_time": "2022-11-30T07:33:37.492Z"
   },
   {
    "duration": 0,
    "start_time": "2022-11-30T07:33:37.493Z"
   },
   {
    "duration": 1318,
    "start_time": "2022-11-30T07:50:14.650Z"
   },
   {
    "duration": 39,
    "start_time": "2022-11-30T07:50:15.969Z"
   },
   {
    "duration": 17,
    "start_time": "2022-11-30T07:50:16.010Z"
   },
   {
    "duration": 11,
    "start_time": "2022-11-30T07:50:16.029Z"
   },
   {
    "duration": 17,
    "start_time": "2022-11-30T07:50:16.041Z"
   },
   {
    "duration": 19,
    "start_time": "2022-11-30T07:50:16.060Z"
   },
   {
    "duration": 39,
    "start_time": "2022-11-30T07:50:16.081Z"
   },
   {
    "duration": 983,
    "start_time": "2022-11-30T07:50:16.122Z"
   },
   {
    "duration": 4,
    "start_time": "2022-11-30T07:50:17.107Z"
   },
   {
    "duration": 125,
    "start_time": "2022-11-30T07:50:17.113Z"
   },
   {
    "duration": 5,
    "start_time": "2022-11-30T07:50:17.239Z"
   },
   {
    "duration": 136,
    "start_time": "2022-11-30T07:50:17.245Z"
   },
   {
    "duration": 10,
    "start_time": "2022-11-30T07:50:17.383Z"
   },
   {
    "duration": 7,
    "start_time": "2022-11-30T07:50:17.394Z"
   },
   {
    "duration": 6,
    "start_time": "2022-11-30T07:50:17.402Z"
   },
   {
    "duration": 16,
    "start_time": "2022-11-30T07:50:17.409Z"
   },
   {
    "duration": 3,
    "start_time": "2022-11-30T07:50:17.427Z"
   },
   {
    "duration": 5,
    "start_time": "2022-11-30T07:50:17.432Z"
   },
   {
    "duration": 6,
    "start_time": "2022-11-30T07:50:17.438Z"
   },
   {
    "duration": 19,
    "start_time": "2022-11-30T07:50:24.900Z"
   },
   {
    "duration": 2,
    "start_time": "2022-11-30T07:50:27.351Z"
   },
   {
    "duration": 25,
    "start_time": "2022-11-30T07:50:28.080Z"
   },
   {
    "duration": 4,
    "start_time": "2022-11-30T07:50:30.534Z"
   },
   {
    "duration": 108,
    "start_time": "2022-11-30T07:50:46.310Z"
   },
   {
    "duration": 6,
    "start_time": "2022-11-30T07:50:48.963Z"
   },
   {
    "duration": 9,
    "start_time": "2022-11-30T07:50:52.119Z"
   },
   {
    "duration": 6,
    "start_time": "2022-11-30T07:50:52.650Z"
   },
   {
    "duration": 584279,
    "start_time": "2022-11-30T07:51:00.159Z"
   },
   {
    "duration": 6,
    "start_time": "2022-11-30T08:25:49.192Z"
   },
   {
    "duration": 927,
    "start_time": "2022-11-30T08:25:52.049Z"
   },
   {
    "duration": 1090,
    "start_time": "2022-11-30T08:25:56.082Z"
   },
   {
    "duration": 465081,
    "start_time": "2022-11-30T08:28:47.683Z"
   },
   {
    "duration": 4574,
    "start_time": "2022-11-30T08:36:32.766Z"
   },
   {
    "duration": 6,
    "start_time": "2022-11-30T08:36:37.342Z"
   },
   {
    "duration": 1114036,
    "start_time": "2022-11-30T08:36:37.350Z"
   },
   {
    "duration": 167466,
    "start_time": "2022-11-30T08:55:11.388Z"
   },
   {
    "duration": 4582,
    "start_time": "2022-11-30T08:57:58.855Z"
   },
   {
    "duration": 5016,
    "start_time": "2022-11-30T08:58:03.439Z"
   },
   {
    "duration": 1527,
    "start_time": "2022-11-30T08:58:08.456Z"
   },
   {
    "duration": 49,
    "start_time": "2023-02-15T14:43:09.353Z"
   },
   {
    "duration": 1606,
    "start_time": "2023-02-15T14:43:27.115Z"
   },
   {
    "duration": 1,
    "start_time": "2023-02-15T14:43:28.724Z"
   },
   {
    "duration": 0,
    "start_time": "2023-02-15T14:43:28.726Z"
   },
   {
    "duration": 0,
    "start_time": "2023-02-15T14:43:28.727Z"
   },
   {
    "duration": 0,
    "start_time": "2023-02-15T14:43:28.729Z"
   },
   {
    "duration": 0,
    "start_time": "2023-02-15T14:43:28.730Z"
   },
   {
    "duration": 0,
    "start_time": "2023-02-15T14:43:28.731Z"
   },
   {
    "duration": 0,
    "start_time": "2023-02-15T14:43:28.732Z"
   },
   {
    "duration": 0,
    "start_time": "2023-02-15T14:43:28.733Z"
   },
   {
    "duration": 0,
    "start_time": "2023-02-15T14:43:28.734Z"
   },
   {
    "duration": 0,
    "start_time": "2023-02-15T14:43:28.736Z"
   },
   {
    "duration": 0,
    "start_time": "2023-02-15T14:43:28.737Z"
   },
   {
    "duration": 0,
    "start_time": "2023-02-15T14:43:28.738Z"
   },
   {
    "duration": 0,
    "start_time": "2023-02-15T14:43:28.739Z"
   },
   {
    "duration": 5,
    "start_time": "2023-02-15T14:43:39.696Z"
   },
   {
    "duration": 83,
    "start_time": "2023-02-15T14:43:40.230Z"
   },
   {
    "duration": 23,
    "start_time": "2023-02-15T14:43:40.603Z"
   },
   {
    "duration": 21,
    "start_time": "2023-02-15T14:43:40.783Z"
   },
   {
    "duration": 25,
    "start_time": "2023-02-15T14:43:40.967Z"
   },
   {
    "duration": 10,
    "start_time": "2023-02-15T14:43:41.134Z"
   },
   {
    "duration": 43,
    "start_time": "2023-02-15T14:43:41.631Z"
   },
   {
    "duration": 1063,
    "start_time": "2023-02-15T14:43:42.403Z"
   },
   {
    "duration": 5,
    "start_time": "2023-02-15T14:43:43.468Z"
   },
   {
    "duration": 162,
    "start_time": "2023-02-15T14:43:43.475Z"
   },
   {
    "duration": 7,
    "start_time": "2023-02-15T14:43:43.639Z"
   },
   {
    "duration": 233,
    "start_time": "2023-02-15T14:43:43.751Z"
   },
   {
    "duration": 19,
    "start_time": "2023-02-15T14:43:45.862Z"
   },
   {
    "duration": 6,
    "start_time": "2023-02-15T14:43:46.087Z"
   },
   {
    "duration": 4,
    "start_time": "2023-02-15T14:43:48.418Z"
   },
   {
    "duration": 13,
    "start_time": "2023-02-15T14:43:49.175Z"
   },
   {
    "duration": 4,
    "start_time": "2023-02-15T14:43:50.848Z"
   },
   {
    "duration": 4,
    "start_time": "2023-02-15T14:43:51.327Z"
   },
   {
    "duration": 4,
    "start_time": "2023-02-15T14:43:52.022Z"
   }
  ],
  "kernelspec": {
   "display_name": "Python 3 (ipykernel)",
   "language": "python",
   "name": "python3"
  },
  "language_info": {
   "codemirror_mode": {
    "name": "ipython",
    "version": 3
   },
   "file_extension": ".py",
   "mimetype": "text/x-python",
   "name": "python",
   "nbconvert_exporter": "python",
   "pygments_lexer": "ipython3",
   "version": "3.9.12"
  },
  "toc": {
   "base_numbering": 1,
   "nav_menu": {},
   "number_sections": true,
   "sideBar": true,
   "skip_h1_title": true,
   "title_cell": "Содержание",
   "title_sidebar": "Contents",
   "toc_cell": true,
   "toc_position": {
    "height": "calc(100% - 180px)",
    "left": "10px",
    "top": "150px",
    "width": "165px"
   },
   "toc_section_display": true,
   "toc_window_display": true
  }
 },
 "nbformat": 4,
 "nbformat_minor": 2
}
